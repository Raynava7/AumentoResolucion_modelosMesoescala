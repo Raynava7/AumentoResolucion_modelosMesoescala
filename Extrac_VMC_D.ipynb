{
 "cells": [
  {
   "cell_type": "code",
   "execution_count": null,
   "id": "c1ba4bf8-5234-4987-849f-d7bacc5c26c7",
   "metadata": {},
   "outputs": [],
   "source": [
    "import os\n",
    "os.chdir('../../scripts_base/')\n",
    "import gus_wrf_ray\n",
    "import xarray as xr \n",
    "import iris  \n",
    "import pandas as pd\n",
    "import numpy as np\n",
    "import datetime \n",
    "import missingno as msno\n",
    "import iris.pandas\n",
    "import cartopy.feature as cfeature\n",
    "import cartopy.crs as ccrs\n",
    "import scipy\n",
    "import matplotlib.pyplot as plt\n",
    "import matplotlib.cm as c\n",
    "import time\n",
    "from metpy.cbook import get_test_data\n",
    "from dask.distributed import Client\n",
    "import wradlib as wrl"
   ]
  },
  {
   "cell_type": "markdown",
   "id": "115871b5-ffe0-4dfd-8125-1cc51a7e9a31",
   "metadata": {},
   "source": [
    "# Datos para extracción originales (cada 1 km)"
   ]
  },
  {
   "cell_type": "code",
   "execution_count": null,
   "id": "6cc3cf59-da56-4c3a-bf0d-130a36089da7",
   "metadata": {},
   "outputs": [],
   "source": [
    "lat_e1km = np.linspace(16.224533, 16.134575, 11)\n",
    "lon_e1km = np.linspace(-93.94673,-93.85307, 11)"
   ]
  },
  {
   "cell_type": "code",
   "execution_count": null,
   "id": "5d8265da-7cdc-4a26-b7ea-042ee0bdd5bb",
   "metadata": {},
   "outputs": [],
   "source": [
    "coordenadas1 = []\n",
    "for i in range(0,(len(lat_e1km))):\n",
    "    for j in range(0, len(lon_e1km)):\n",
    "        coordenadas1.append([lon_e1km[j], lat_e1km[i]])\n",
    "dfcoorOr = pd.DataFrame(coordenadas1, columns = ['Longitud', 'Latitud'])"
   ]
  },
  {
   "cell_type": "markdown",
   "id": "606e0859-c0b7-43d3-9215-1a3e6fcbdb44",
   "metadata": {
    "tags": []
   },
   "source": [
    "# Extracción de velocidades con el punto más cercano (Horario UTC) cada 1 km para 06/03/2016 00:00-02:00"
   ]
  },
  {
   "cell_type": "code",
   "execution_count": null,
   "id": "7cdb2da0-cd83-4b1e-9daf-a866212fb439",
   "metadata": {},
   "outputs": [],
   "source": [
    "datos = '../Casos_V2/caso_D/Datos_WRF/dat_1dia/dat_1dia3H/dat_1dia_1/'\n",
    "date_bgn = '06-03-2016'\n",
    "date_end = '06-03-2016'\n",
    "grid = 3\n",
    "#wt_loc = [('latitude', 16.224533), ('longitude', -93.97483)]\n",
    "wt_height = 80"
   ]
  },
  {
   "cell_type": "code",
   "execution_count": null,
   "id": "c3090dc8-42c4-4ecf-804e-59db9505e711",
   "metadata": {},
   "outputs": [],
   "source": [
    "df_near_1km = pd.DataFrame()\n",
    "z = 0\n",
    "for i in range(0,(len(lat_e1km))):\n",
    "    for j in range(0, len(lon_e1km)):\n",
    "        wt_loc = [('latitude', lat_e1km[i]), ('longitude', lon_e1km[j])]\n",
    "        dat = gus_wrf_ray.extract_hh_cubeRAY_nearest_WS(datos,date_bgn, date_end, grid, wt_loc, wt_height)\n",
    "        dat = dat[0]\n",
    "        dat = dat.reset_index()\n",
    "        #dat['longitud'] = lon_e1km[j]\n",
    "        #dat['latitud'] = lat_e1km[i]\n",
    "        dat['num'] = z\n",
    "        z = z+1\n",
    "        df_near_1km = pd.concat([df_near_1km, dat], axis=0)"
   ]
  },
  {
   "cell_type": "markdown",
   "id": "be00ea15-d17a-4d5c-b3a4-73b080a1185c",
   "metadata": {},
   "source": [
    "557"
   ]
  },
  {
   "cell_type": "code",
   "execution_count": null,
   "id": "e0e28c2c-f93f-4694-80cc-5297501c4e01",
   "metadata": {},
   "outputs": [],
   "source": [
    "df_near_1km"
   ]
  },
  {
   "cell_type": "markdown",
   "id": "c8491bdd-558f-4277-b468-7585e07fea75",
   "metadata": {},
   "source": [
    "## Correción horaria (UTC -6)"
   ]
  },
  {
   "cell_type": "code",
   "execution_count": null,
   "id": "99cd209f-3ab9-453c-93c5-c780e7b57d1d",
   "metadata": {},
   "outputs": [],
   "source": [
    "pde  = '2016-03-06 00:00:00'\n",
    "pde1 = '2016-03-06 01:00:00'\n",
    "pde2 = '2016-03-06 02:00:00'\n",
    "pdef = []\n",
    "for i in range(121):\n",
    "    pdef.append(pde)\n",
    "    pdef.append(pde1)\n",
    "    pdef.append(pde2)    "
   ]
  },
  {
   "cell_type": "code",
   "execution_count": null,
   "id": "7807e6b4-4df7-4502-b553-a801f765f448",
   "metadata": {},
   "outputs": [],
   "source": [
    "df_near_1km['Date_UTCMex'] = pdef\n",
    "df_near_1km.to_csv('../Casos_V2/caso_D/Velocidades/df_Min_000102.csv')\n",
    "#dfV_IB_1km = dfV_IB_1km.set_index('Date_UTCMex')\n",
    "#dfV_IB_1km.index = pd.to_datetime(dfV_IB_1km.index)\n",
    "df_near_1km"
   ]
  },
  {
   "cell_type": "markdown",
   "id": "7d2143ad-dd48-4bda-89b9-67167f826b69",
   "metadata": {
    "tags": []
   },
   "source": [
    "# Extracción de velocidades con el punto más cercano (Horario UTC) cada 1 km para 06/03/2016 03:00-05:00"
   ]
  },
  {
   "cell_type": "code",
   "execution_count": null,
   "id": "b439afc6-45ce-4acb-ad9a-110da1480035",
   "metadata": {},
   "outputs": [],
   "source": [
    "datos = '../Casos_V2/caso_D/Datos_WRF/dat_1dia/dat_1dia3H/dat_1dia_2/'\n",
    "date_bgn = '06-03-2016'\n",
    "date_end = '06-03-2016'\n",
    "grid = 3\n",
    "#wt_loc = [('latitude', 16.224533), ('longitude', -93.97483)]\n",
    "wt_height = 80"
   ]
  },
  {
   "cell_type": "code",
   "execution_count": null,
   "id": "5b9b35a1-acaa-4b85-bf9b-ed8886abfecd",
   "metadata": {},
   "outputs": [],
   "source": [
    "df_near_1km = pd.DataFrame()\n",
    "z = 0\n",
    "for i in range(0,(len(lat_e1km))):\n",
    "    for j in range(0, len(lon_e1km)):\n",
    "        wt_loc = [('latitude', lat_e1km[i]), ('longitude', lon_e1km[j])]\n",
    "        dat = gus_wrf_ray.extract_hh_cubeRAY_nearest_WS(datos,date_bgn, date_end, grid, wt_loc, wt_height)\n",
    "        dat = dat[0]\n",
    "        dat = dat.reset_index()\n",
    "        #dat['longitud'] = lon_e1km[j]\n",
    "        #dat['latitud'] = lat_e1km[i]\n",
    "        dat['num'] = z\n",
    "        z = z+1\n",
    "        df_near_1km = pd.concat([df_near_1km, dat], axis=0)"
   ]
  },
  {
   "cell_type": "markdown",
   "id": "1203996c-fc01-4b7e-9c56-290ed24be382",
   "metadata": {},
   "source": [
    "557"
   ]
  },
  {
   "cell_type": "code",
   "execution_count": null,
   "id": "0205f15d-2bd9-44d1-b38b-c3bfdfb73cbf",
   "metadata": {},
   "outputs": [],
   "source": [
    "df_near_1km"
   ]
  },
  {
   "cell_type": "markdown",
   "id": "118d7124-ee54-4c6f-a5d9-2a8a18a8dc93",
   "metadata": {},
   "source": [
    "## Correción horaria (UTC -6)"
   ]
  },
  {
   "cell_type": "code",
   "execution_count": null,
   "id": "491df928-b852-40e6-aaf0-e24a3f3e95a0",
   "metadata": {},
   "outputs": [],
   "source": [
    "pde  = '2016-03-06 03:00:00'\n",
    "pde1 = '2016-03-06 04:00:00'\n",
    "pde2 = '2016-03-06 05:00:00'\n",
    "pdef = []\n",
    "for i in range(121):\n",
    "    pdef.append(pde)\n",
    "    pdef.append(pde1)\n",
    "    pdef.append(pde2)    "
   ]
  },
  {
   "cell_type": "code",
   "execution_count": null,
   "id": "aaf565ce-d525-4712-9eb1-ff454b213293",
   "metadata": {},
   "outputs": [],
   "source": [
    "df_near_1km['Date_UTCMex'] = pdef\n",
    "df_near_1km.to_csv('../Casos_V2/caso_D/Velocidades/df_Min_030405.csv')\n",
    "#dfV_IB_1km = dfV_IB_1km.set_index('Date_UTCMex')\n",
    "#dfV_IB_1km.index = pd.to_datetime(dfV_IB_1km.index)\n",
    "df_near_1km"
   ]
  },
  {
   "cell_type": "markdown",
   "id": "c93d2f65-fff2-4aa9-be06-5a84a4e60e08",
   "metadata": {
    "tags": []
   },
   "source": [
    "# Extracción de velocidades con el punto más cercano (Horario UTC) cada 1 km para 06/03/2016 06:00-08:00"
   ]
  },
  {
   "cell_type": "code",
   "execution_count": null,
   "id": "cb052ac6-cc82-4999-af97-6958d9ad1d09",
   "metadata": {},
   "outputs": [],
   "source": [
    "datos = '../Casos_V2/caso_D/Datos_WRF/dat_1dia/dat_1dia3H/dat_1dia_3/'\n",
    "date_bgn = '06-03-2016'\n",
    "date_end = '06-03-2016'\n",
    "grid = 3\n",
    "#wt_loc = [('latitude', 16.224533), ('longitude', -93.97483)]\n",
    "wt_height = 80"
   ]
  },
  {
   "cell_type": "code",
   "execution_count": null,
   "id": "01c5d2fb-9ffa-4a94-af0e-47fcfb3626d1",
   "metadata": {},
   "outputs": [],
   "source": [
    "df_near_1km = pd.DataFrame()\n",
    "z = 0\n",
    "for i in range(0,(len(lat_e1km))):\n",
    "    for j in range(0, len(lon_e1km)):\n",
    "        wt_loc = [('latitude', lat_e1km[i]), ('longitude', lon_e1km[j])]\n",
    "        dat = gus_wrf_ray.extract_hh_cubeRAY_nearest_WS(datos,date_bgn, date_end, grid, wt_loc, wt_height)\n",
    "        dat = dat[0]\n",
    "        dat = dat.reset_index()\n",
    "        #dat['longitud'] = lon_e1km[j]\n",
    "        #dat['latitud'] = lat_e1km[i]\n",
    "        dat['num'] = z\n",
    "        z = z+1\n",
    "        df_near_1km = pd.concat([df_near_1km, dat], axis=0)"
   ]
  },
  {
   "cell_type": "markdown",
   "id": "8003d043-28fd-40ac-ac06-70ac959b558b",
   "metadata": {},
   "source": [
    "557"
   ]
  },
  {
   "cell_type": "code",
   "execution_count": null,
   "id": "3702c4cb-3fc9-4b59-93b1-ea288dce67c1",
   "metadata": {},
   "outputs": [],
   "source": [
    "df_near_1km"
   ]
  },
  {
   "cell_type": "markdown",
   "id": "7abc42d1-3d9b-4e71-a14b-f8853367610a",
   "metadata": {},
   "source": [
    "## Correción horaria (UTC -6)"
   ]
  },
  {
   "cell_type": "code",
   "execution_count": null,
   "id": "a766409d-b31f-4fac-98f2-fa43c5c7d8ca",
   "metadata": {},
   "outputs": [],
   "source": [
    "pde  = '2016-03-06 06:00:00'\n",
    "pde1 = '2016-03-06 07:00:00'\n",
    "pde2 = '2016-03-06 08:00:00'\n",
    "pdef = []\n",
    "for i in range(121):\n",
    "    pdef.append(pde)\n",
    "    pdef.append(pde1)\n",
    "    pdef.append(pde2)    "
   ]
  },
  {
   "cell_type": "code",
   "execution_count": null,
   "id": "9b726300-46f8-4235-b25e-69f3ae5f5691",
   "metadata": {},
   "outputs": [],
   "source": [
    "df_near_1km['Date_UTCMex'] = pdef\n",
    "df_near_1km.to_csv('../Casos_V2/caso_D/Velocidades/df_Min_060708.csv')\n",
    "#dfV_IB_1km = dfV_IB_1km.set_index('Date_UTCMex')\n",
    "#dfV_IB_1km.index = pd.to_datetime(dfV_IB_1km.index)\n",
    "df_near_1km"
   ]
  },
  {
   "cell_type": "markdown",
   "id": "c4b42271-763a-46f4-9e6f-d31073a62484",
   "metadata": {
    "tags": []
   },
   "source": [
    "# Extracción de velocidades con el punto más cercano (Horario UTC) cada 1 km para 06/03/2016 09:00-11:00"
   ]
  },
  {
   "cell_type": "code",
   "execution_count": null,
   "id": "59668f8b-9fcd-455b-afc7-7e3477e5ec02",
   "metadata": {},
   "outputs": [],
   "source": [
    "datos = '../Casos_V2/caso_D/Datos_WRF/dat_1dia/dat_1dia3H/dat_1dia_4/'\n",
    "date_bgn = '06-03-2016'\n",
    "date_end = '06-03-2016'\n",
    "grid = 3\n",
    "#wt_loc = [('latitude', 16.224533), ('longitude', -93.97483)]\n",
    "wt_height = 80"
   ]
  },
  {
   "cell_type": "code",
   "execution_count": null,
   "id": "668bafbc-cc9f-434e-bf5b-de290dc1eb5c",
   "metadata": {},
   "outputs": [],
   "source": [
    "df_near_1km = pd.DataFrame()\n",
    "z = 0\n",
    "for i in range(0,(len(lat_e1km))):\n",
    "    for j in range(0, len(lon_e1km)):\n",
    "        wt_loc = [('latitude', lat_e1km[i]), ('longitude', lon_e1km[j])]\n",
    "        dat = gus_wrf_ray.extract_hh_cubeRAY_nearest_WS(datos,date_bgn, date_end, grid, wt_loc, wt_height)\n",
    "        dat = dat[0]\n",
    "        dat = dat.reset_index()\n",
    "        #dat['longitud'] = lon_e1km[j]\n",
    "        #dat['latitud'] = lat_e1km[i]\n",
    "        dat['num'] = z\n",
    "        z = z+1\n",
    "        df_near_1km = pd.concat([df_near_1km, dat], axis=0)"
   ]
  },
  {
   "cell_type": "markdown",
   "id": "97fc1a4b-cd68-495c-8cc4-0242eab5f03d",
   "metadata": {},
   "source": [
    "557"
   ]
  },
  {
   "cell_type": "code",
   "execution_count": null,
   "id": "5c6f008a-95f2-4125-a4f1-ad666ed6253e",
   "metadata": {},
   "outputs": [],
   "source": [
    "df_near_1km"
   ]
  },
  {
   "cell_type": "markdown",
   "id": "c301e0a7-1ad4-4814-842f-1419b7522078",
   "metadata": {},
   "source": [
    "## Correción horaria (UTC -6)"
   ]
  },
  {
   "cell_type": "code",
   "execution_count": null,
   "id": "0ac06349-2260-45d8-9c41-1608b00af06f",
   "metadata": {},
   "outputs": [],
   "source": [
    "pde  = '2016-03-06 09:00:00'\n",
    "pde1 = '2016-03-06 10:00:00'\n",
    "pde2 = '2016-03-06 11:00:00'\n",
    "pdef = []\n",
    "for i in range(121):\n",
    "    pdef.append(pde)\n",
    "    pdef.append(pde1)\n",
    "    pdef.append(pde2)    "
   ]
  },
  {
   "cell_type": "code",
   "execution_count": null,
   "id": "925520db-b8ec-4c07-9fe7-85138fcac8c8",
   "metadata": {},
   "outputs": [],
   "source": [
    "df_near_1km['Date_UTCMex'] = pdef\n",
    "df_near_1km.to_csv('../Casos_V2/caso_D/Velocidades/df_Min_091011.csv')\n",
    "#dfV_IB_1km = dfV_IB_1km.set_index('Date_UTCMex')\n",
    "#dfV_IB_1km.index = pd.to_datetime(dfV_IB_1km.index)\n",
    "df_near_1km"
   ]
  },
  {
   "cell_type": "markdown",
   "id": "ad31c624-3134-4a1d-a8df-747bb6e7cb71",
   "metadata": {
    "tags": []
   },
   "source": [
    "# Extracción de velocidades con el punto más cercano (Horario UTC) cada 1 km para 06/03/2016 12:00-14:00"
   ]
  },
  {
   "cell_type": "code",
   "execution_count": null,
   "id": "3cfdc48b-47d6-4838-88a7-6215f3d53d12",
   "metadata": {},
   "outputs": [],
   "source": [
    "datos = '../Casos_V2/caso_D/Datos_WRF/dat_1dia/dat_1dia3H/dat_1dia_5/'\n",
    "date_bgn = '06-03-2016'\n",
    "date_end = '06-03-2016'\n",
    "grid = 3\n",
    "#wt_loc = [('latitude', 16.224533), ('longitude', -93.97483)]\n",
    "wt_height = 80"
   ]
  },
  {
   "cell_type": "code",
   "execution_count": null,
   "id": "70514b33-d696-4c44-87f2-acbfb0925fdf",
   "metadata": {},
   "outputs": [],
   "source": [
    "df_near_1km = pd.DataFrame()\n",
    "z = 0\n",
    "for i in range(0,(len(lat_e1km))):\n",
    "    for j in range(0, len(lon_e1km)):\n",
    "        wt_loc = [('latitude', lat_e1km[i]), ('longitude', lon_e1km[j])]\n",
    "        dat = gus_wrf_ray.extract_hh_cubeRAY_nearest_WS(datos,date_bgn, date_end, grid, wt_loc, wt_height)\n",
    "        dat = dat[0]\n",
    "        dat = dat.reset_index()\n",
    "        #dat['longitud'] = lon_e1km[j]\n",
    "        #dat['latitud'] = lat_e1km[i]\n",
    "        dat['num'] = z\n",
    "        z = z+1\n",
    "        df_near_1km = pd.concat([df_near_1km, dat], axis=0)"
   ]
  },
  {
   "cell_type": "markdown",
   "id": "6a1d2478-867c-4144-ad8e-7d38b79ac88c",
   "metadata": {},
   "source": [
    "557"
   ]
  },
  {
   "cell_type": "code",
   "execution_count": null,
   "id": "f10e500b-8917-4dbd-ad51-d808684d1d5f",
   "metadata": {},
   "outputs": [],
   "source": [
    "df_near_1km"
   ]
  },
  {
   "cell_type": "markdown",
   "id": "c3b30295-4b4b-4348-9217-4a12e2ceb122",
   "metadata": {},
   "source": [
    "## Correción horaria (UTC -6)"
   ]
  },
  {
   "cell_type": "code",
   "execution_count": null,
   "id": "25c912f0-ac72-4a68-95c9-75d5333bb081",
   "metadata": {},
   "outputs": [],
   "source": [
    "pde  = '2016-03-06 12:00:00'\n",
    "pde1 = '2016-03-06 13:00:00'\n",
    "pde2 = '2016-03-06 14:00:00'\n",
    "pdef = []\n",
    "for i in range(121):\n",
    "    pdef.append(pde)\n",
    "    pdef.append(pde1)\n",
    "    pdef.append(pde2)    "
   ]
  },
  {
   "cell_type": "code",
   "execution_count": null,
   "id": "15d6928b-fb6c-4db2-b4a1-396230ae8d6e",
   "metadata": {},
   "outputs": [],
   "source": [
    "df_near_1km['Date_UTCMex'] = pdef\n",
    "df_near_1km.to_csv('../Casos_V2/caso_D/Velocidades/df_Min_121314.csv')\n",
    "#dfV_IB_1km = dfV_IB_1km.set_index('Date_UTCMex')\n",
    "#dfV_IB_1km.index = pd.to_datetime(dfV_IB_1km.index)\n",
    "df_near_1km;"
   ]
  },
  {
   "cell_type": "markdown",
   "id": "c69094eb-a27c-4545-bf01-616de8062368",
   "metadata": {
    "tags": []
   },
   "source": [
    "# Extracción de velocidades con el punto más cercano (Horario UTC) cada 1 km para 06/03/2016 15:00-17:00"
   ]
  },
  {
   "cell_type": "code",
   "execution_count": null,
   "id": "ebf22ae0-9acf-447e-83af-a65a56424668",
   "metadata": {},
   "outputs": [],
   "source": [
    "datos = '../Casos_V2/caso_D/Datos_WRF/dat_1dia/dat_1dia3H/dat_1dia_6/'\n",
    "date_bgn = '06-03-2016'\n",
    "date_end = '06-03-2016'\n",
    "grid = 3\n",
    "#wt_loc = [('latitude', 16.224533), ('longitude', -93.97483)]\n",
    "wt_height = 80"
   ]
  },
  {
   "cell_type": "code",
   "execution_count": null,
   "id": "9570800d-ee49-40c7-bbf0-98d4092d37df",
   "metadata": {},
   "outputs": [],
   "source": [
    "df_near_1km = pd.DataFrame()\n",
    "z = 0\n",
    "for i in range(0,(len(lat_e1km))):\n",
    "    for j in range(0, len(lon_e1km)):\n",
    "        wt_loc = [('latitude', lat_e1km[i]), ('longitude', lon_e1km[j])]\n",
    "        dat = gus_wrf_ray.extract_hh_cubeRAY_nearest_WS(datos,date_bgn, date_end, grid, wt_loc, wt_height)\n",
    "        dat = dat[0]\n",
    "        dat = dat.reset_index()\n",
    "        #dat['longitud'] = lon_e1km[j]\n",
    "        #dat['latitud'] = lat_e1km[i]\n",
    "        dat['num'] = z\n",
    "        z = z+1\n",
    "        df_near_1km = pd.concat([df_near_1km, dat], axis=0)"
   ]
  },
  {
   "cell_type": "markdown",
   "id": "ecf77793-02f0-4ac0-b3f0-bc5eb798de74",
   "metadata": {},
   "source": [
    "557"
   ]
  },
  {
   "cell_type": "code",
   "execution_count": null,
   "id": "5d8f6433-a76e-49c1-b918-1507f7b8d65a",
   "metadata": {},
   "outputs": [],
   "source": [
    "df_near_1km"
   ]
  },
  {
   "cell_type": "markdown",
   "id": "53f88e3c-d957-46c0-b81b-83e8691af009",
   "metadata": {},
   "source": [
    "## Correción horaria (UTC -6)"
   ]
  },
  {
   "cell_type": "code",
   "execution_count": null,
   "id": "49a455a1-f45c-4064-997c-c6f7b334af33",
   "metadata": {},
   "outputs": [],
   "source": [
    "pde  = '2016-03-06 15:00:00'\n",
    "pde1 = '2016-03-06 16:00:00'\n",
    "pde2 = '2016-03-06 17:00:00'\n",
    "pdef = []\n",
    "for i in range(121):\n",
    "    pdef.append(pde)\n",
    "    pdef.append(pde1)\n",
    "    pdef.append(pde2)    "
   ]
  },
  {
   "cell_type": "code",
   "execution_count": null,
   "id": "3ac1ee74-4943-4dc0-9fa5-fefd28aacb56",
   "metadata": {},
   "outputs": [],
   "source": [
    "df_near_1km['Date_UTCMex'] = pdef\n",
    "df_near_1km.to_csv('../Casos_V2/caso_D/Velocidades/df_Min_151617.csv')\n",
    "#dfV_IB_1km = dfV_IB_1km.set_index('Date_UTCMex')\n",
    "#dfV_IB_1km.index = pd.to_datetime(dfV_IB_1km.index)\n",
    "df_near_1km;"
   ]
  },
  {
   "cell_type": "markdown",
   "id": "a1d80d70-1ec8-4db7-bef6-7854098c3c32",
   "metadata": {
    "tags": []
   },
   "source": [
    "# Extracción de velocidades con el punto más cercano (Horario UTC) cada 1 km para 06/03/2016 18:00-20:00"
   ]
  },
  {
   "cell_type": "code",
   "execution_count": null,
   "id": "fe17a8e2-0f4f-45b2-9592-03b26bed67f5",
   "metadata": {},
   "outputs": [],
   "source": [
    "datos = '../Casos_V2/caso_D/Datos_WRF/dat_1dia/dat_1dia3H/dat_1dia_7/'\n",
    "date_bgn = '07-03-2016'\n",
    "date_end = '07-03-2016'\n",
    "grid = 3\n",
    "#wt_loc = [('latitude', 16.224533), ('longitude', -93.97483)]\n",
    "wt_height = 80"
   ]
  },
  {
   "cell_type": "code",
   "execution_count": null,
   "id": "32100100-b68d-4586-baca-652033f6aab1",
   "metadata": {},
   "outputs": [],
   "source": [
    "df_near_1km = pd.DataFrame()\n",
    "z = 0\n",
    "for i in range(0,(len(lat_e1km))):\n",
    "    for j in range(0, len(lon_e1km)):\n",
    "        wt_loc = [('latitude', lat_e1km[i]), ('longitude', lon_e1km[j])]\n",
    "        dat = gus_wrf_ray.extract_hh_cubeRAY_nearest_WS(datos,date_bgn, date_end, grid, wt_loc, wt_height)\n",
    "        dat = dat[0]\n",
    "        dat = dat.reset_index()\n",
    "        #dat['longitud'] = lon_e1km[j]\n",
    "        #dat['latitud'] = lat_e1km[i]\n",
    "        dat['num'] = z\n",
    "        z = z+1\n",
    "        df_near_1km = pd.concat([df_near_1km, dat], axis=0)"
   ]
  },
  {
   "cell_type": "markdown",
   "id": "d68da257-476f-4a63-86d4-16a1308693dc",
   "metadata": {},
   "source": [
    "557"
   ]
  },
  {
   "cell_type": "code",
   "execution_count": null,
   "id": "c89fb631-8df7-4e5d-b035-87874666f967",
   "metadata": {},
   "outputs": [],
   "source": [
    "df_near_1km;"
   ]
  },
  {
   "cell_type": "markdown",
   "id": "03a235a4-2cf1-42f7-aefb-b88c460fb65d",
   "metadata": {},
   "source": [
    "## Correción horaria (UTC -6)"
   ]
  },
  {
   "cell_type": "code",
   "execution_count": null,
   "id": "3718d3a7-d4f4-4398-8c92-3146f81a6efd",
   "metadata": {},
   "outputs": [],
   "source": [
    "pde  = '2016-03-06 18:00:00'\n",
    "pde1 = '2016-03-06 19:00:00'\n",
    "pde2 = '2016-03-06 20:00:00'\n",
    "pdef = []\n",
    "for i in range(121):\n",
    "    pdef.append(pde)\n",
    "    pdef.append(pde1)\n",
    "    pdef.append(pde2)    "
   ]
  },
  {
   "cell_type": "code",
   "execution_count": null,
   "id": "18421d4d-2a07-48ca-8373-a2a9439c53ea",
   "metadata": {},
   "outputs": [],
   "source": [
    "df_near_1km['Date_UTCMex'] = pdef\n",
    "df_near_1km.to_csv('../Casos_V2/caso_D/Velocidades/df_Min_181920.csv')\n",
    "#dfV_IB_1km = dfV_IB_1km.set_index('Date_UTCMex')\n",
    "#dfV_IB_1km.index = pd.to_datetime(dfV_IB_1km.index)\n",
    "df_near_1km;"
   ]
  },
  {
   "cell_type": "markdown",
   "id": "b6e1007e-dfcd-442e-87bc-c2f2b12823a6",
   "metadata": {
    "tags": []
   },
   "source": [
    "# Extracción de velocidades con el punto más cercano (Horario UTC) cada 1 km para 06/03/2016 21:00-23:00"
   ]
  },
  {
   "cell_type": "code",
   "execution_count": null,
   "id": "900e9899-1c4e-40f7-a84c-27a82c16607b",
   "metadata": {},
   "outputs": [],
   "source": [
    "datos = '../Casos_V2/caso_D/Datos_WRF/dat_1dia/dat_1dia3H/dat_1dia_8/'\n",
    "date_bgn = '07-03-2016'\n",
    "date_end = '07-03-2016'\n",
    "grid = 3\n",
    "#wt_loc = [('latitude', 16.224533), ('longitude', -93.97483)]\n",
    "wt_height = 80"
   ]
  },
  {
   "cell_type": "code",
   "execution_count": null,
   "id": "76d8a84c-bb05-49e6-85c7-0b186fc425a3",
   "metadata": {},
   "outputs": [],
   "source": [
    "df_near_1km = pd.DataFrame()\n",
    "z = 0\n",
    "for i in range(0,(len(lat_e1km))):\n",
    "    for j in range(0, len(lon_e1km)):\n",
    "        wt_loc = [('latitude', lat_e1km[i]), ('longitude', lon_e1km[j])]\n",
    "        dat = gus_wrf_ray.extract_hh_cubeRAY_nearest_WS(datos,date_bgn, date_end, grid, wt_loc, wt_height)\n",
    "        dat = dat[0]\n",
    "        dat = dat.reset_index()\n",
    "        #dat['longitud'] = lon_e1km[j]\n",
    "        #dat['latitud'] = lat_e1km[i]\n",
    "        dat['num'] = z\n",
    "        z = z+1\n",
    "        df_near_1km = pd.concat([df_near_1km, dat], axis=0)"
   ]
  },
  {
   "cell_type": "markdown",
   "id": "15745a40-8695-44ad-a71b-346938b868c8",
   "metadata": {},
   "source": [
    "557"
   ]
  },
  {
   "cell_type": "code",
   "execution_count": null,
   "id": "51092543-ae4d-4eef-ac53-3f06657ca8cb",
   "metadata": {},
   "outputs": [],
   "source": [
    "df_near_1km;"
   ]
  },
  {
   "cell_type": "markdown",
   "id": "4115de3c-f92a-45f1-9290-dbe5cf064015",
   "metadata": {},
   "source": [
    "## Correción horaria (UTC -6)"
   ]
  },
  {
   "cell_type": "code",
   "execution_count": null,
   "id": "af3f9436-9563-40b5-a857-7760fd949549",
   "metadata": {},
   "outputs": [],
   "source": [
    "pde  = '2016-03-06 21:00:00'\n",
    "pde1 = '2016-03-06 22:00:00'\n",
    "pde2 = '2016-03-06 23:00:00'\n",
    "pdef = []\n",
    "for i in range(121):\n",
    "    pdef.append(pde)\n",
    "    pdef.append(pde1)\n",
    "    pdef.append(pde2)    "
   ]
  },
  {
   "cell_type": "code",
   "execution_count": null,
   "id": "2723a30f-e056-4359-a66f-868dd54a899f",
   "metadata": {},
   "outputs": [],
   "source": [
    "df_near_1km['Date_UTCMex'] = pdef\n",
    "df_near_1km.to_csv('../Casos_V2/caso_D/Velocidades/df_Min_212223.csv')\n",
    "#dfV_IB_1km = dfV_IB_1km.set_index('Date_UTCMex')\n",
    "#dfV_IB_1km.index = pd.to_datetime(dfV_IB_1km.index)\n",
    "df_near_1km;"
   ]
  }
 ],
 "metadata": {
  "kernelspec": {
   "display_name": "Python 3 (ipykernel)",
   "language": "python",
   "name": "python3"
  },
  "language_info": {
   "codemirror_mode": {
    "name": "ipython",
    "version": 3
   },
   "file_extension": ".py",
   "mimetype": "text/x-python",
   "name": "python",
   "nbconvert_exporter": "python",
   "pygments_lexer": "ipython3",
   "version": "3.10.4"
  }
 },
 "nbformat": 4,
 "nbformat_minor": 5
}
