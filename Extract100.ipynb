{
 "cells": [
  {
   "cell_type": "code",
   "execution_count": null,
   "id": "2cb8cc59-a080-44c5-b99f-d96a7b890543",
   "metadata": {},
   "outputs": [],
   "source": [
    "import os\n",
    "os.chdir('../../scripts_base/')\n",
    "import gus_wrf_ray\n",
    "import xarray as xr \n",
    "import iris  \n",
    "import pandas as pd\n",
    "import numpy as np\n",
    "import datetime \n",
    "import missingno as msno\n",
    "import iris.pandas\n",
    "import cartopy.feature as cfeature\n",
    "import cartopy.crs as ccrs\n",
    "import scipy\n",
    "import matplotlib.pyplot as plt\n",
    "import matplotlib.cm as c\n",
    "import time\n",
    "from metpy.cbook import get_test_data\n",
    "from dask.distributed import Client\n",
    "import wradlib as wrl"
   ]
  },
  {
   "cell_type": "markdown",
   "id": "19ef34d2-830b-46e7-bb91-1fd46524030f",
   "metadata": {},
   "source": [
    "# Datos para extracción originales (cada 1 km)"
   ]
  },
  {
   "cell_type": "code",
   "execution_count": null,
   "id": "bdc79c09-29ad-4e11-a451-5f0f62fc171d",
   "metadata": {},
   "outputs": [],
   "source": [
    "lat_e1km = np.linspace(16.224533, 16.134575, 101)\n",
    "lon_e1km = np.linspace(-93.94673,-93.85307, 101)"
   ]
  },
  {
   "cell_type": "code",
   "execution_count": null,
   "id": "df2e41ee-9750-45ba-8967-63924c9dd319",
   "metadata": {},
   "outputs": [],
   "source": [
    "coordenadas1 = []\n",
    "for i in range(0,(len(lat_e1km))):\n",
    "    for j in range(0, len(lon_e1km)):\n",
    "        coordenadas1.append([lon_e1km[j], lat_e1km[i]])\n",
    "dfcoorOr = pd.DataFrame(coordenadas1, columns = ['Longitud', 'Latitud'])"
   ]
  },
  {
   "cell_type": "markdown",
   "id": "e895ac02-da95-4e10-add2-fa9ef7fc0e06",
   "metadata": {
    "tags": []
   },
   "source": [
    "# Extracción de velocidades con el punto más cercano (Horario UTC) cada 100 m para el día 15/03/2016 para las 12:00"
   ]
  },
  {
   "cell_type": "code",
   "execution_count": null,
   "id": "3d6aa32c-9793-487f-aa25-c064927e2466",
   "metadata": {},
   "outputs": [],
   "source": [
    "datos = '../Casos_V2/caso_D/Datos_WRF/dat_1dia/dat_1dia3H/dat_1dia_1/'\n",
    "date_bgn = '15-03-2016'\n",
    "date_end = '15-03-2016'\n",
    "grid = 3\n",
    "#wt_loc = [('latitude', 16.224533), ('longitude', -93.97483)]\n",
    "wt_height = 80"
   ]
  },
  {
   "cell_type": "code",
   "execution_count": null,
   "id": "4ad84200-3f58-4fcd-9fbb-8d407b7fd15e",
   "metadata": {},
   "outputs": [],
   "source": [
    "df_near_100m = pd.DataFrame()\n",
    "z = 0\n",
    "for i in range(0,(len(lat_e1km))):\n",
    "    for j in range(0, len(lon_e1km)):\n",
    "        wt_loc = [('latitude', lat_e1km[i]), ('longitude', lon_e1km[j])]\n",
    "        dat = gus_wrf_ray.extract_hh_cubeRAY_nearest_WS(datos,date_bgn, date_end, grid, wt_loc, wt_height)\n",
    "        dat = dat[0]\n",
    "        dat = dat.reset_index()\n",
    "        #dat['longitud'] = lon_e1km[j]\n",
    "        #dat['latitud'] = lat_e1km[i]\n",
    "        dat['num'] = z\n",
    "        z = z+1\n",
    "        df_near_100m = pd.concat([df_near_100m, dat], axis=0)"
   ]
  },
  {
   "cell_type": "code",
   "execution_count": null,
   "id": "4a3d27d5-37dd-464c-b6f4-4a094d91d73e",
   "metadata": {},
   "outputs": [],
   "source": [
    "df_near_100m"
   ]
  },
  {
   "cell_type": "markdown",
   "id": "b8a02aa4-9787-4b7a-84a0-e1dc195d4a16",
   "metadata": {},
   "source": [
    "## Correción horaria (UTC -6)"
   ]
  },
  {
   "cell_type": "code",
   "execution_count": null,
   "id": "c89f7eb6-bd93-4fad-95ee-453df2262f24",
   "metadata": {},
   "outputs": [],
   "source": [
    "pde  = '2016-03-15 12:00:00'\n",
    "pdef = []\n",
    "for i in range(121):\n",
    "    pdef.append(pde)"
   ]
  },
  {
   "cell_type": "code",
   "execution_count": null,
   "id": "fbfe5495-cee5-4b6f-a4ed-9b94d81d8280",
   "metadata": {},
   "outputs": [],
   "source": [
    "df_near_100m['Date_UTCMex'] = pdef\n",
    "df_near_100m.to_csv('../Casos_V2/caso_D/Velocidades/df_Near_Min_12.csv')\n",
    "#dfV_IB_1km = dfV_IB_1km.set_index('Date_UTCMex')\n",
    "#dfV_IB_1km.index = pd.to_datetime(dfV_IB_1km.index)\n",
    "df_near_100m;"
   ]
  },
  {
   "cell_type": "markdown",
   "id": "e4000fd3-40f1-43f1-a6dd-dbd919b73578",
   "metadata": {
    "tags": []
   },
   "source": [
    "# Extracción de velocidades con Interpolación bilinear (Horario UTC) cada 100 m para el día 2006/03/15 para las 12:00"
   ]
  },
  {
   "cell_type": "code",
   "execution_count": null,
   "id": "6458d1f7-ecf2-4423-a8c8-245b9b10451f",
   "metadata": {},
   "outputs": [],
   "source": [
    "datos = '../Casos_V2/caso_C/Datos_WRF/dat_1dia/dat_1dia3H/dat_1dia_1/'\n",
    "date_bgn = '15-03-2016'\n",
    "date_end = '15-03-2016'\n",
    "grid = 3\n",
    "#wt_loc = [('latitude', 16.224533), ('longitude', -93.97483)]\n",
    "wt_height = 80"
   ]
  },
  {
   "cell_type": "code",
   "execution_count": null,
   "id": "8dccd344-b211-42fc-9946-205766a6dc75",
   "metadata": {},
   "outputs": [],
   "source": [
    "df_IB_100m = pd.DataFrame()\n",
    "z = 0\n",
    "for i in range(0,(len(lat_e1km))):\n",
    "    for j in range(0, len(lon_e1km)):\n",
    "        wt_loc = [('latitude', lat_e1km[i]), ('longitude', lon_e1km[j])]\n",
    "        dat = gus_wrf_ray.extract_hh_cubeRAY_InterpBiline_WS(datos,date_bgn, date_end, grid, wt_loc, wt_height)\n",
    "        dat = dat[0]\n",
    "        dat = dat.reset_index()\n",
    "        #dat['longitud'] = lon_e1km[j]\n",
    "        #dat['latitud'] = lat_e1km[i]\n",
    "        dat['num'] = z\n",
    "        z = z+1\n",
    "        df_IB_100m = pd.concat([df_IB_100m, dat], axis=0)"
   ]
  },
  {
   "cell_type": "code",
   "execution_count": null,
   "id": "e345b0d7-544f-4ea8-be7b-449b482f6e92",
   "metadata": {},
   "outputs": [],
   "source": [
    "df_IB_100m"
   ]
  },
  {
   "cell_type": "markdown",
   "id": "38b27265-b2ff-4f1f-ba76-ee0f444dfe88",
   "metadata": {},
   "source": [
    "## Correción horaria (UTC -6)"
   ]
  },
  {
   "cell_type": "code",
   "execution_count": null,
   "id": "e709f744-93f2-4a5d-a728-fff16778b4fd",
   "metadata": {},
   "outputs": [],
   "source": [
    "pde  = '2016-03-15 12:00:00'\n",
    "pdef = []\n",
    "for i in range(121):\n",
    "    pdef.append(pde)   "
   ]
  },
  {
   "cell_type": "code",
   "execution_count": null,
   "id": "f3868e19-f077-4e6f-9d3f-7b0f7866533f",
   "metadata": {},
   "outputs": [],
   "source": [
    "df_IB_100m['Date_UTCMex'] = pdef\n",
    "df_IB_100m.to_csv('../Casos_V2/caso_D/Velocidades/df_IB_Min_12.csv')\n",
    "#dfIB_1km = dfV_IB_1km.set_index('Date_UTCMex')\n",
    "#dfIB_1km.index = pd.to_datetime(dfV_IB_1km.index)\n",
    "df_IB_100m;"
   ]
  }
 ],
 "metadata": {
  "kernelspec": {
   "display_name": "Python 3 (ipykernel)",
   "language": "python",
   "name": "python3"
  },
  "language_info": {
   "codemirror_mode": {
    "name": "ipython",
    "version": 3
   },
   "file_extension": ".py",
   "mimetype": "text/x-python",
   "name": "python",
   "nbconvert_exporter": "python",
   "pygments_lexer": "ipython3",
   "version": "3.10.4"
  }
 },
 "nbformat": 4,
 "nbformat_minor": 5
}
