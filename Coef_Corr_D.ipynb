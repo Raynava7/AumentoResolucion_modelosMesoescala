{
 "cells": [
  {
   "cell_type": "markdown",
   "id": "5194597c",
   "metadata": {},
   "source": [
    "# Código para determinar los coeficientes de Spearman para la región de Arriaga, Chiapas, Marzo 2016"
   ]
  },
  {
   "cell_type": "code",
   "execution_count": null,
   "id": "0823003c",
   "metadata": {},
   "outputs": [],
   "source": [
    "import pandas as pd\n",
    "import numpy as np\n",
    "import matplotlib.pyplot as plt\n",
    "import scipy\n",
    "from sklearn.metrics import mean_squared_error\n",
    "from math import sqrt"
   ]
  },
  {
   "cell_type": "markdown",
   "id": "0b2162af",
   "metadata": {},
   "source": [
    "## Lectura de datos medidos a 80 metros en (16.188056 N, 93.943889 W)"
   ]
  },
  {
   "cell_type": "code",
   "execution_count": null,
   "id": "aca3ff98",
   "metadata": {},
   "outputs": [],
   "source": [
    "datReal = pd.read_csv('Datos_WTG_Arriaga_2016.csv')\n",
    "datReal = datReal.set_index('PCTimeStamp')\n",
    "datReal.index = pd.to_datetime(datReal.index);"
   ]
  },
  {
   "cell_type": "code",
   "execution_count": null,
   "id": "f7d2a8a2",
   "metadata": {},
   "outputs": [],
   "source": [
    "datReal"
   ]
  },
  {
   "cell_type": "markdown",
   "id": "ec17669a",
   "metadata": {},
   "source": [
    "### Obtención de promedios horarios de las mediciones"
   ]
  },
  {
   "cell_type": "code",
   "execution_count": null,
   "id": "789602e4",
   "metadata": {},
   "outputs": [],
   "source": [
    "datReal = datReal.rename(columns={'WTG01_AmbientWindSpeedAvg':'Vel'})\n",
    "datReal = datReal.resample('H').mean()\n",
    "datReal = datReal.drop(['WTG01_Ambient WindDirAbsoluteAvg', 'WTG01_Total Accumulated Produced Energy (1) [kWh]', 'WTG01_Mean Power Production [kW]'], axis = 1)"
   ]
  },
  {
   "cell_type": "code",
   "execution_count": null,
   "id": "4d1101b5",
   "metadata": {
    "scrolled": true
   },
   "outputs": [],
   "source": [
    "plt.figure(figsize=(16,5), dpi=100)\n",
    "plt.plot(datReal.index, datReal.Vel, color='tab:red', label = 'Real')\n",
    "plt.gca().set(title= 'Velocidad de Viento a 80 m (Real)', xlabel= 'Día Hora', ylabel='[m/s]')\n",
    "plt.legend()\n",
    "plt.show()"
   ]
  },
  {
   "cell_type": "markdown",
   "id": "869426d9",
   "metadata": {},
   "source": [
    "### Obtención de los datos 'reales' del mes de Marzo 2016"
   ]
  },
  {
   "cell_type": "code",
   "execution_count": null,
   "id": "cc960b49",
   "metadata": {},
   "outputs": [],
   "source": [
    "datReal03 = datReal.loc['2016-03-01':'2016-03-31'] #YYYY-MM-DD"
   ]
  },
  {
   "cell_type": "code",
   "execution_count": null,
   "id": "539972ef",
   "metadata": {},
   "outputs": [],
   "source": [
    "plt.figure(figsize=(16,5), dpi=100)\n",
    "plt.plot(datReal03.index, datReal03.Vel, color='tab:red', label = 'Real')\n",
    "plt.gca().set(title= 'Velocidad de Viento a 80 m (Real)', xlabel= 'Día Hora', ylabel='[m/s]')\n",
    "plt.legend()\n",
    "plt.show()"
   ]
  },
  {
   "cell_type": "markdown",
   "id": "2f2cd991",
   "metadata": {},
   "source": [
    "## Comparación ST wrf"
   ]
  },
  {
   "cell_type": "markdown",
   "id": "08d13d65",
   "metadata": {},
   "source": [
    "### Lectura de datos directos de WRF para el mes de Marzo 2016 (16.188056 N, 93.943889 W)"
   ]
  },
  {
   "cell_type": "code",
   "execution_count": null,
   "id": "8d26c12c",
   "metadata": {},
   "outputs": [],
   "source": [
    "df_WRF = pd.read_csv('../caso_D/datST_IB.csv')\n",
    "df_WRF = df_WRF.set_index('Date_UTCMex')\n",
    "df_WRF.index = pd.to_datetime(df_WRF.index)"
   ]
  },
  {
   "cell_type": "code",
   "execution_count": null,
   "id": "796a8636",
   "metadata": {},
   "outputs": [],
   "source": [
    "plt.figure(figsize=(16,5), dpi=100)\n",
    "plt.plot(datReal03.index, datReal03.Vel, color='tab:red', label = 'Real')\n",
    "plt.plot(df_WRF.index, df_WRF['Vel_m/s'], color='tab:green', label = 'Interpolación WRF')\n",
    "plt.gca().set(title= 'Velocidad de Viento a 80 m', xlabel= 'Día Hora', ylabel='[m/s]')\n",
    "plt.legend()\n",
    "plt.show()"
   ]
  },
  {
   "cell_type": "markdown",
   "id": "5bd4700b",
   "metadata": {},
   "source": [
    "# Correlaciones diarias Mes 03"
   ]
  },
  {
   "cell_type": "code",
   "execution_count": null,
   "id": "ae1c5469",
   "metadata": {},
   "outputs": [],
   "source": [
    "datReal03 = datReal03.fillna(0)"
   ]
  },
  {
   "cell_type": "markdown",
   "id": "7a1003a2",
   "metadata": {},
   "source": [
    "### Separación en dataframes de los datos de todos los días del mes (datos reales y datos de WRF)"
   ]
  },
  {
   "cell_type": "code",
   "execution_count": null,
   "id": "31500ad8",
   "metadata": {},
   "outputs": [],
   "source": [
    "D01 = datReal03.loc['2016-03-01':'2016-03-01'] ; wrf01 = df_WRF.loc['2016-03-01':'2016-03-01']\n",
    "D02 = datReal03.loc['2016-03-02':'2016-03-02'] ; wrf02 = df_WRF.loc['2016-03-02':'2016-03-02']\n",
    "D03 = datReal03.loc['2016-03-03':'2016-03-03'] ; wrf03 = df_WRF.loc['2016-03-03':'2016-03-03']\n",
    "D04 = datReal03.loc['2016-03-04':'2016-03-04'] ; wrf04 = df_WRF.loc['2016-03-04':'2016-03-04']\n",
    "D05 = datReal03.loc['2016-03-05':'2016-03-05'] ; wrf05 = df_WRF.loc['2016-03-05':'2016-03-05']\n",
    "D06 = datReal03.loc['2016-03-06':'2016-03-06'] ; wrf06 = df_WRF.loc['2016-03-06':'2016-03-06']\n",
    "D07 = datReal03.loc['2016-03-07':'2016-03-07'] ; wrf07 = df_WRF.loc['2016-03-07':'2016-03-07']\n",
    "D08 = datReal03.loc['2016-03-08':'2016-03-08'] ; wrf08 = df_WRF.loc['2016-03-08':'2016-03-08']\n",
    "D09 = datReal03.loc['2016-03-09':'2016-03-09'] ; wrf09 = df_WRF.loc['2016-03-09':'2016-03-09']\n",
    "D10 = datReal03.loc['2016-03-10':'2016-03-10'] ; wrf10 = df_WRF.loc['2016-03-10':'2016-03-10']\n",
    "D11 = datReal03.loc['2016-03-11':'2016-03-11'] ; wrf11 = df_WRF.loc['2016-03-11':'2016-03-11']\n",
    "D12 = datReal03.loc['2016-03-12':'2016-03-12'] ; wrf12 = df_WRF.loc['2016-03-12':'2016-03-12']\n",
    "D13 = datReal03.loc['2016-03-13':'2016-03-13'] ; wrf13 = df_WRF.loc['2016-03-13':'2016-03-13']\n",
    "D14 = datReal03.loc['2016-03-14':'2016-03-14'] ; wrf14 = df_WRF.loc['2016-03-14':'2016-03-14']\n",
    "D15 = datReal03.loc['2016-03-15':'2016-03-15'] ; wrf15 = df_WRF.loc['2016-03-15':'2016-03-15']\n",
    "D16 = datReal03.loc['2016-03-16':'2016-03-16'] ; wrf16 = df_WRF.loc['2016-03-16':'2016-03-16']\n",
    "D17 = datReal03.loc['2016-03-17':'2016-03-17'] ; wrf17 = df_WRF.loc['2016-03-17':'2016-03-17']\n",
    "D18 = datReal03.loc['2016-03-18':'2016-03-18'] ; wrf18 = df_WRF.loc['2016-03-18':'2016-03-18']\n",
    "D19 = datReal03.loc['2016-03-19':'2016-03-19'] ; wrf19 = df_WRF.loc['2016-03-19':'2016-03-19']\n",
    "D20 = datReal03.loc['2016-03-20':'2016-03-20'] ; wrf20 = df_WRF.loc['2016-03-20':'2016-03-20']\n",
    "D21 = datReal03.loc['2016-03-21':'2016-03-21'] ; wrf21 = df_WRF.loc['2016-03-21':'2016-03-21']\n",
    "D22 = datReal03.loc['2016-03-22':'2016-03-22'] ; wrf22 = df_WRF.loc['2016-03-22':'2016-03-22']\n",
    "D23 = datReal03.loc['2016-03-23':'2016-03-23'] ; wrf23 = df_WRF.loc['2016-03-23':'2016-03-23']\n",
    "D24 = datReal03.loc['2016-03-24':'2016-03-24'] ; wrf24 = df_WRF.loc['2016-03-24':'2016-03-24']\n",
    "D25 = datReal03.loc['2016-03-25':'2016-03-25'] ; wrf25 = df_WRF.loc['2016-03-25':'2016-03-25']\n",
    "D26 = datReal03.loc['2016-03-26':'2016-03-26'] ; wrf26 = df_WRF.loc['2016-03-26':'2016-03-26']\n",
    "D27 = datReal03.loc['2016-03-27':'2016-03-27'] ; wrf27 = df_WRF.loc['2016-03-27':'2016-03-27']\n",
    "D28 = datReal03.loc['2016-03-28':'2016-03-28'] ; wrf28 = df_WRF.loc['2016-03-28':'2016-03-28']\n",
    "D29 = datReal03.loc['2016-03-29':'2016-03-29'] ; wrf29 = df_WRF.loc['2016-03-29':'2016-03-29']\n",
    "D30 = datReal03.loc['2016-03-30':'2016-03-30'] ; wrf30 = df_WRF.loc['2016-03-30':'2016-03-30']\n",
    "D31 = datReal03.loc['2016-03-31':'2016-03-31'] ; wrf31 = df_WRF.loc['2016-03-31':'2016-03-31']"
   ]
  },
  {
   "cell_type": "markdown",
   "id": "ca9bd9fa",
   "metadata": {},
   "source": [
    "### Cálculo de los coeficientes de correlacui"
   ]
  },
  {
   "cell_type": "code",
   "execution_count": null,
   "id": "add5e91d",
   "metadata": {},
   "outputs": [],
   "source": [
    "D01_Spea, p = scipy.stats.spearmanr(D01.Vel, wrf01['Vel_m/s'])\n",
    "D02_Spea, p = scipy.stats.spearmanr(D02.Vel, wrf02['Vel_m/s'])\n",
    "D03_Spea, p = scipy.stats.spearmanr(D03.Vel, wrf03['Vel_m/s'])\n",
    "D04_Spea, p = scipy.stats.spearmanr(D04.Vel, wrf04['Vel_m/s'])\n",
    "D05_Spea, p = scipy.stats.spearmanr(D05.Vel, wrf05['Vel_m/s'])\n",
    "D06_Spea, p = scipy.stats.spearmanr(D06.Vel, wrf06['Vel_m/s'])\n",
    "D07_Spea, p = scipy.stats.spearmanr(D07.Vel, wrf07['Vel_m/s'])\n",
    "D08_Spea, p = scipy.stats.spearmanr(D08.Vel, wrf08['Vel_m/s'])\n",
    "D09_Spea, p = scipy.stats.spearmanr(D09.Vel, wrf09['Vel_m/s'])\n",
    "D10_Spea, p = scipy.stats.spearmanr(D10.Vel, wrf10['Vel_m/s'])\n",
    "D11_Spea, p = scipy.stats.spearmanr(D11.Vel, wrf11['Vel_m/s'])\n",
    "D12_Spea, p = scipy.stats.spearmanr(D12.Vel, wrf12['Vel_m/s'])\n",
    "D13_Spea, p = scipy.stats.spearmanr(D13.Vel, wrf13['Vel_m/s'])\n",
    "D14_Spea, p = scipy.stats.spearmanr(D14.Vel, wrf14['Vel_m/s'])\n",
    "D15_Spea, p = scipy.stats.spearmanr(D15.Vel, wrf15['Vel_m/s'])\n",
    "D16_Spea, p = scipy.stats.spearmanr(D16.Vel, wrf16['Vel_m/s'])\n",
    "D17_Spea, p = scipy.stats.spearmanr(D17.Vel, wrf17['Vel_m/s'])\n",
    "D18_Spea, p = scipy.stats.spearmanr(D18.Vel, wrf18['Vel_m/s'])\n",
    "D19_Spea, p = scipy.stats.spearmanr(D19.Vel, wrf19['Vel_m/s'])\n",
    "D20_Spea, p = scipy.stats.spearmanr(D20.Vel, wrf20['Vel_m/s'])\n",
    "D21_Spea, p = scipy.stats.spearmanr(D21.Vel, wrf21['Vel_m/s'])\n",
    "D22_Spea, p = scipy.stats.spearmanr(D22.Vel, wrf22['Vel_m/s'])\n",
    "D23_Spea, p = scipy.stats.spearmanr(D23.Vel, wrf23['Vel_m/s'])\n",
    "D24_Spea, p = scipy.stats.spearmanr(D24.Vel, wrf24['Vel_m/s'])\n",
    "D25_Spea, p = scipy.stats.spearmanr(D25.Vel, wrf25['Vel_m/s'])\n",
    "D26_Spea, p = scipy.stats.spearmanr(D26.Vel, wrf26['Vel_m/s'])\n",
    "D27_Spea, p = scipy.stats.spearmanr(D27.Vel, wrf27['Vel_m/s'])\n",
    "D28_Spea, p = scipy.stats.spearmanr(D28.Vel, wrf28['Vel_m/s'])\n",
    "D29_Spea, p = scipy.stats.spearmanr(D29.Vel, wrf29['Vel_m/s'])\n",
    "D30_Spea, p = scipy.stats.spearmanr(D30.Vel, wrf30['Vel_m/s'])\n",
    "#D31_Spea, p = scipy.stats.spearmanr(D31.Vel, wrf31['Vel_m/s'])"
   ]
  },
  {
   "cell_type": "code",
   "execution_count": null,
   "id": "0cdb284b",
   "metadata": {},
   "outputs": [],
   "source": [
    "df = pd.DataFrame()\n",
    "df['Spearman'] = [D01_Spea, D02_Spea, D03_Spea,\n",
    "D04_Spea,\n",
    "D05_Spea,\n",
    "D06_Spea,\n",
    "D07_Spea,\n",
    "D08_Spea,\n",
    "D09_Spea,\n",
    "D10_Spea,\n",
    "D11_Spea,\n",
    "D12_Spea,\n",
    "D13_Spea,\n",
    "D14_Spea,\n",
    "D15_Spea,\n",
    "D16_Spea,\n",
    "D17_Spea,\n",
    "D18_Spea,\n",
    "D19_Spea,\n",
    "D20_Spea,\n",
    "D21_Spea,\n",
    "D22_Spea,\n",
    "D23_Spea,\n",
    "D24_Spea,\n",
    "D25_Spea,\n",
    "D26_Spea,\n",
    "D27_Spea,\n",
    "D28_Spea,\n",
    "D29_Spea,\n",
    "D30_Spea]"
   ]
  },
  {
   "cell_type": "code",
   "execution_count": null,
   "id": "bdfa10d0",
   "metadata": {},
   "outputs": [],
   "source": [
    "df = df.loc[df['Spearman'] >= 0]"
   ]
  },
  {
   "cell_type": "code",
   "execution_count": null,
   "id": "71913565",
   "metadata": {},
   "outputs": [],
   "source": [
    "mini = df.min()\n",
    "maxi = df.max()"
   ]
  },
  {
   "cell_type": "code",
   "execution_count": null,
   "id": "992eb5b3",
   "metadata": {},
   "outputs": [],
   "source": [
    "df.loc[df['Spearman'] == mini[0]]"
   ]
  },
  {
   "cell_type": "code",
   "execution_count": null,
   "id": "4c8de2ae",
   "metadata": {},
   "outputs": [],
   "source": [
    "df.loc[df['Spearman'] == maxi[0]]"
   ]
  },
  {
   "cell_type": "markdown",
   "id": "645c2ced",
   "metadata": {},
   "source": [
    "# El día de menor correlación es el 06 y el día de mayor es el 15"
   ]
  },
  {
   "cell_type": "code",
   "execution_count": null,
   "id": "16eb68a0",
   "metadata": {},
   "outputs": [],
   "source": []
  }
 ],
 "metadata": {
  "kernelspec": {
   "display_name": "Python 3 (ipykernel)",
   "language": "python",
   "name": "python3"
  },
  "language_info": {
   "codemirror_mode": {
    "name": "ipython",
    "version": 3
   },
   "file_extension": ".py",
   "mimetype": "text/x-python",
   "name": "python",
   "nbconvert_exporter": "python",
   "pygments_lexer": "ipython3",
   "version": "3.10.4"
  }
 },
 "nbformat": 4,
 "nbformat_minor": 5
}
