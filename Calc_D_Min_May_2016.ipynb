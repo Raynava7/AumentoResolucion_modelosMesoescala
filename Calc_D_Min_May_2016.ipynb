{
 "cells": [
  {
   "cell_type": "markdown",
   "id": "79feb61f",
   "metadata": {},
   "source": [
    "# Programa para extrapolar las velocidades a partir de las condiciones de orografía y uso de suelo"
   ]
  },
  {
   "cell_type": "markdown",
   "id": "198d1b7c",
   "metadata": {},
   "source": [
    "### Paqueterías utilizadas "
   ]
  },
  {
   "cell_type": "code",
   "execution_count": null,
   "id": "a3d5757f",
   "metadata": {},
   "outputs": [],
   "source": [
    "import xarray as xr \n",
    "import iris  \n",
    "import pandas as pd\n",
    "import numpy as np\n",
    "import datetime \n",
    "import missingno as msno\n",
    "import iris.pandas\n",
    "import cartopy.feature as cfeature\n",
    "import cartopy.crs as ccrs\n",
    "import matplotlib.pyplot as plt\n",
    "import matplotlib.cm as c\n",
    "import time\n",
    "from metpy.cbook import get_test_data\n",
    "from dask.distributed import Client\n",
    "#import wradlib as wrl\n",
    "from scipy import interpolate\n",
    "import scipy\n",
    "from sklearn.metrics import mean_squared_error\n",
    "from math import sqrt"
   ]
  },
  {
   "cell_type": "markdown",
   "id": "69b1eeb8",
   "metadata": {},
   "source": [
    "# Coordenadas originales (cada 1km)"
   ]
  },
  {
   "cell_type": "code",
   "execution_count": null,
   "id": "61683478",
   "metadata": {},
   "outputs": [],
   "source": [
    "lat_e1km = np.linspace(16.224533, 16.134575,11)\n",
    "lon_e1km = np.linspace(-93.94673,-93.85307 , 11)"
   ]
  },
  {
   "cell_type": "code",
   "execution_count": null,
   "id": "2dc49228",
   "metadata": {},
   "outputs": [],
   "source": [
    "coordenadas1 = []\n",
    "for i in range(0,(len(lat_e1km))):\n",
    "    for j in range(0, len(lon_e1km)):\n",
    "        coordenadas1.append([lon_e1km[j], lat_e1km[i]])\n",
    "dfcoor_Or = pd.DataFrame(coordenadas1, columns = ['Longitud', 'Latitud'])"
   ]
  },
  {
   "cell_type": "markdown",
   "id": "5f99c1df",
   "metadata": {},
   "source": [
    "# Coordenadas 100m"
   ]
  },
  {
   "cell_type": "code",
   "execution_count": null,
   "id": "d17d1108",
   "metadata": {},
   "outputs": [],
   "source": [
    "lat_10km_ev100m = np.linspace(16.224533, 16.134575,101)\n",
    "lon_10km_ev100m = np.linspace(-93.94673,-93.85307 , 101)"
   ]
  },
  {
   "cell_type": "code",
   "execution_count": null,
   "id": "351e4b83",
   "metadata": {},
   "outputs": [],
   "source": [
    "coordenadas = []\n",
    "for i in range(0,(len(lat_10km_ev100m))):\n",
    "    for j in range(0, len(lon_10km_ev100m)):\n",
    "        coordenadas.append([lon_10km_ev100m[j], lat_10km_ev100m[i]])\n",
    "dfcoor = pd.DataFrame(coordenadas, columns = ['Longitud', 'Latitud'])"
   ]
  },
  {
   "cell_type": "markdown",
   "id": "07e9c656",
   "metadata": {},
   "source": [
    "# Archivo Altitudes (DEM NASA)"
   ]
  },
  {
   "cell_type": "markdown",
   "id": "282e5a73",
   "metadata": {},
   "source": [
    "Lectura de archios DEM sobre la altitud del terreno"
   ]
  },
  {
   "cell_type": "code",
   "execution_count": null,
   "id": "a6a2be0c",
   "metadata": {},
   "outputs": [],
   "source": [
    "dfAltitud   = pd.read_csv('../Orografia_rugo/caso_D/Alt_D.csv')\n",
    "dfAltitud_1 = pd.read_csv('../Orografia_rugo/caso_D/Alt_D.csv')"
   ]
  },
  {
   "cell_type": "markdown",
   "id": "0dcf1fd5",
   "metadata": {},
   "source": [
    "# Archivo Uso de Suelo (INEGI)"
   ]
  },
  {
   "cell_type": "markdown",
   "id": "222970bd",
   "metadata": {},
   "source": [
    "Lectura del archivo de uso de suelo de INEGI"
   ]
  },
  {
   "cell_type": "code",
   "execution_count": null,
   "id": "078eb65a",
   "metadata": {},
   "outputs": [],
   "source": [
    "dfRug_INEGI = pd.read_csv('../Orografia_rugo/caso_D/Rug_D.csv') "
   ]
  },
  {
   "cell_type": "markdown",
   "id": "db33493c",
   "metadata": {},
   "source": [
    "### Asignación de longitud de rugosidad a cada uso de suelo ([1] Manwell)"
   ]
  },
  {
   "cell_type": "code",
   "execution_count": null,
   "id": "2948776a",
   "metadata": {},
   "outputs": [],
   "source": [
    "rugoMan = []\n",
    "for i in range(len(dfRug_INEGI)):\n",
    "    z0 = dfRug_INEGI.Indice[i]\n",
    "    if z0 == 1: #ATAP\n",
    "        ValR1 = 50e-3\n",
    "    if z0 == 2: #AH\n",
    "        ValR1 = 250e-3\n",
    "    if z0 == 3: #PC\n",
    "        ValR1 = 10e-3\n",
    "    if z0 == 4: #PI\n",
    "        ValR1 =  10e-3\n",
    "    if z0 == 5: #S\n",
    "        ValR1 = 100e-3\n",
    "    if z0 == 6: #SDE \n",
    "        ValR1 = 100e-3\n",
    "    if z0 == 7: #SG\n",
    "        ValR1 = 500e-3\n",
    "    if z0 == 8: #VSASG\n",
    "        ValR1 = 100e-3\n",
    "    if z0 == 9: #VSASBC\n",
    "        ValR1 = 250e-3\n",
    "    if z0 == 10: #VSASMSC\n",
    "        ValR1 = 250e-3\n",
    "    if z0 == 11: #VSHSBC\n",
    "        ValR1 = 250e-3\n",
    "    if z0 == 12: #MSC\n",
    "        ValR1 = 10e-3\n",
    "    if z0 == 13: #MS\n",
    "        ValR1 =  50e-3\n",
    "    if z0 == 14: #ARA\n",
    "        ValR1 = 50e-3\n",
    "    if z0 == 15: #MX\n",
    "        ValR1 = 10e-3\n",
    "    if z0 == 16: #S/V\n",
    "        ValR1 = 8e-3\n",
    "    if z0 == 17: #ARAS\n",
    "        ValR1 = 50e-3\n",
    "    if z0 == 18: #ATA\n",
    "        ValR1 =50e-3\n",
    "    if z0 == 19: #SBC\n",
    "        ValR1 = 500e-3\n",
    "    if z0 == 20: #VSASBEC\n",
    "        ValR1 = 250e-3\n",
    "    if z0 == 21: #CA\n",
    "        ValR1 = 0.2e-3\n",
    "    if z0 == 22: #VSAMET\n",
    "        ValR1 = 100.00e-3\n",
    "    rugoMan.append(ValR1)\n",
    "rugoMan = pd.DataFrame(rugoMan)"
   ]
  },
  {
   "cell_type": "code",
   "execution_count": null,
   "id": "829e5885",
   "metadata": {},
   "outputs": [],
   "source": [
    "dfRug_INEGI['zo_1'] = rugoMan"
   ]
  },
  {
   "cell_type": "markdown",
   "id": "12872f09",
   "metadata": {},
   "source": [
    "## Estáticos para el aumento de la resolución"
   ]
  },
  {
   "cell_type": "markdown",
   "id": "5839107e",
   "metadata": {},
   "source": [
    "### Orografía de la zona"
   ]
  },
  {
   "cell_type": "code",
   "execution_count": null,
   "id": "fe089f25",
   "metadata": {},
   "outputs": [],
   "source": [
    "alts_vect = []\n",
    "k = 0\n",
    "for i in range (0, 101):\n",
    "    arralts_vect = []\n",
    "    for j in range(0,101):\n",
    "        arralts_vect.append(dfAltitud.Altitudes[k])\n",
    "        k=k+1\n",
    "    #Umatrix = np.append(Umatrix, [arrU], axis=0)\n",
    "    alts_vect.append(arralts_vect)"
   ]
  },
  {
   "cell_type": "code",
   "execution_count": null,
   "id": "5edf3c4e",
   "metadata": {},
   "outputs": [],
   "source": [
    "plt.figure(figsize=(10,10))\n",
    "ax = plt.axes(projection=ccrs.PlateCarree())\n",
    "ax.set_extent([-93.99,-93.81, 16.25, 16.1])\n",
    "#plt.plot(-93.9373 ,16.1825, markersize=6, marker='d', color='red')\n",
    "ax.coastlines(resolution=\"10m\")\n",
    "#ax.text(-93.94, 16.118, '10 km')\n",
    "ax.add_feature(cfeature.BORDERS)\n",
    "ax.add_feature(cfeature.LAND)\n",
    "ax.add_feature(cfeature.OCEAN)\n",
    "p= ax.pcolormesh(lon_10km_ev100m, lat_10km_ev100m, alts_vect, cmap = 'viridis', transform=ccrs.PlateCarree())\n",
    "cbar = plt.colorbar(p, shrink=0.4)\n",
    "cbar.set_label('metros')\n",
    "#plt.savefig('./../../2_Semestre/Modelos_metereologicos/Avances Proyecto Final/MapAltitud.png', format = 'png', dpi = 200, bbox_inches = 'tight')"
   ]
  },
  {
   "cell_type": "markdown",
   "id": "ccc638ab",
   "metadata": {},
   "source": [
    "### Uso de suelo INEGI"
   ]
  },
  {
   "cell_type": "code",
   "execution_count": null,
   "id": "e5569813",
   "metadata": {},
   "outputs": [],
   "source": [
    "rug_vect1 = []\n",
    "k = 0\n",
    "for i in range (0, 101):\n",
    "    arrrug_vect1 = []\n",
    "    for j in range(0,101):\n",
    "        arrrug_vect1.append(dfRug_INEGI.Indice[k])\n",
    "        k=k+1\n",
    "    #Umatrix = np.append(Umatrix, [arrU], axis=0)\n",
    "    rug_vect1.append(arrrug_vect1)"
   ]
  },
  {
   "cell_type": "code",
   "execution_count": null,
   "id": "0d6421e7",
   "metadata": {},
   "outputs": [],
   "source": [
    "plt.figure(figsize=(10,10))\n",
    "ax = plt.axes(projection=ccrs.PlateCarree())\n",
    "ax.set_extent([-93.99,-93.81, 16.25, 16.1])\n",
    "#plt.plot(-93.9373 ,16.1825, markersize=6, marker='d', color='red')\n",
    "ax.coastlines(resolution=\"10m\")\n",
    "ax.add_feature(cfeature.BORDERS)\n",
    "ax.add_feature(cfeature.LAND)\n",
    "ax.add_feature(cfeature.OCEAN)\n",
    "p= ax.pcolormesh(lon_10km_ev100m, lat_10km_ev100m, rug_vect1, cmap = 'viridis', transform=ccrs.PlateCarree())\n",
    "cbar = plt.colorbar(p, shrink=0.4)\n",
    "cbar.set_label('Índice')"
   ]
  },
  {
   "cell_type": "markdown",
   "id": "89078e7f",
   "metadata": {},
   "source": [
    "# Lectura de las velocidades cada 1 km (vecino más cercano) Dia con menor Correlación"
   ]
  },
  {
   "cell_type": "code",
   "execution_count": null,
   "id": "218f202d",
   "metadata": {},
   "outputs": [],
   "source": [
    "df1N_Min = pd.read_csv('../dat/caso_D/df_Min_000102.csv')"
   ]
  },
  {
   "cell_type": "code",
   "execution_count": null,
   "id": "501880ca",
   "metadata": {},
   "outputs": [],
   "source": [
    "df_N_Min = pd.concat([df1N_Min])"
   ]
  },
  {
   "cell_type": "code",
   "execution_count": null,
   "id": "a3492a6c",
   "metadata": {},
   "outputs": [],
   "source": [
    "df_N_Min"
   ]
  },
  {
   "cell_type": "code",
   "execution_count": null,
   "id": "4d960030",
   "metadata": {},
   "outputs": [],
   "source": [
    "df_N_Min = df_N_Min.drop(['Unnamed: 0'], axis = 1)\n",
    "df_N_Min = df_N_Min.rename(columns = {'Vel_m/s':'Vels'})\n",
    "df_N_Min = df_N_Min.drop(['Date', 'Dir'], axis = 1)"
   ]
  },
  {
   "cell_type": "code",
   "execution_count": null,
   "id": "4ac574c5",
   "metadata": {},
   "outputs": [],
   "source": [
    "df_N_Min"
   ]
  },
  {
   "cell_type": "code",
   "execution_count": null,
   "id": "2a06523a",
   "metadata": {},
   "outputs": [],
   "source": [
    "df_N_Min = df_N_Min.sort_values(['num', 'Date_UTCMex'])\n",
    "#df_N = df_N.drop(['num'], axis = 1)\n",
    "df_N_Min = df_N_Min.set_index('Date_UTCMex')\n",
    "df_N_Min.index = pd.to_datetime(df_N_Min.index)"
   ]
  },
  {
   "cell_type": "code",
   "execution_count": null,
   "id": "9dbf1a82",
   "metadata": {},
   "outputs": [],
   "source": [
    "df00_N_Min = df_N_Min.Vels.between_time('00:00', '00:00')"
   ]
  },
  {
   "cell_type": "markdown",
   "id": "4a99278d",
   "metadata": {},
   "source": [
    "## Indices para los datos de altitud originales (cada 1 km)\n",
    "\n",
    "Se asignan los 'índices' a los datos de altitud, es decir, se van a extraer los datos de altitud relacionados con los puntos originales, los que se encuentran a cada kilómetro de distancia"
   ]
  },
  {
   "cell_type": "code",
   "execution_count": null,
   "id": "e369f90b",
   "metadata": {},
   "outputs": [],
   "source": [
    "arr1 =np.linspace(0,100,11).tolist()\n",
    "arr2 =np.linspace(1010, 1110,11).tolist()\n",
    "arr3 =np.linspace(2020, 2120,11).tolist()\n",
    "arr4 =np.linspace(3030, 3130,11).tolist()\n",
    "arr5 =np.linspace(4040, 4140,11).tolist()\n",
    "arr6 =np.linspace(5050, 5150,11).tolist()\n",
    "arr7 =np.linspace(6060, 6160,11).tolist()\n",
    "arr8 =np.linspace(7070, 7170,11).tolist()\n",
    "arr9 =np.linspace(8080, 8180,11).tolist()\n",
    "arr10 =np.linspace(9090, 9190,11).tolist()\n",
    "arr11 =np.linspace(10100, 10200,11).tolist()\n",
    "arr = arr1 + arr2 + arr3+ arr4+arr5+arr6+arr7+arr8+arr9+arr10+arr11\n",
    "ind = np.linspace(0,120,121)"
   ]
  },
  {
   "cell_type": "code",
   "execution_count": null,
   "id": "c7add69c",
   "metadata": {},
   "outputs": [],
   "source": [
    "dfAltitudOrig = dfAltitud.iloc[arr]\n",
    "dfAltitudOrig['index'] = ind\n",
    "dfAltitudOrig.set_index('index')\n",
    "dfAltitudp = dfAltitudOrig['Altitudes'].squeeze()\n",
    "dfAltitudp.index = ind"
   ]
  },
  {
   "cell_type": "markdown",
   "id": "cdcbe470",
   "metadata": {},
   "source": [
    "# Funciones para extrapolación de la velocidad"
   ]
  },
  {
   "cell_type": "code",
   "execution_count": null,
   "id": "bdfc7075",
   "metadata": {},
   "outputs": [],
   "source": [
    "#Ley de potencia\n",
    "def extrapolacion(Uzr, z, zr):\n",
    "    alpha = (0.37-(0.088*np.log(Uzr)))/(1-(0.088*np.log(zr/10)))\n",
    "    Uz = Uzr*((z / zr )**(alpha))\n",
    "    return Uz"
   ]
  },
  {
   "cell_type": "code",
   "execution_count": null,
   "id": "63871b23",
   "metadata": {},
   "outputs": [],
   "source": [
    "#Ley logaritmica\n",
    "def extrapolacionlog(Uzr, z, zr, zo):\n",
    "    Uz = Uzr*((np.log(z/zo))/(np.log(zr/zo)))\n",
    "    return Uz"
   ]
  },
  {
   "cell_type": "markdown",
   "id": "66ece771",
   "metadata": {},
   "source": [
    "# Estructura calculos"
   ]
  },
  {
   "cell_type": "markdown",
   "id": "bc1b8dc1",
   "metadata": {},
   "source": [
    "### Planteamiento de asignar las velocidades a cada altitud\n",
    "\n",
    "### El procedimiento consiste en asignar las velocidades extraídas, las de los puntos originales (las velocidades con una resolución de 1 kilómetro). Para cada punto denttro de la nueva malla se le asignaran 4 velocidades, es decir, las 4 esquinas con velocidades extraídas"
   ]
  },
  {
   "cell_type": "markdown",
   "id": "d626d2a2",
   "metadata": {},
   "source": [
    "Con el punto de arriba a la izquierda del cuadrante BIEN"
   ]
  },
  {
   "cell_type": "code",
   "execution_count": null,
   "id": "d900db34",
   "metadata": {},
   "outputs": [],
   "source": [
    "dfU00_N_1_Min = []\n",
    "dfAlt1 = []\n",
    "for x in range(0,11): #Bloques diferentes\n",
    "    if x == 0:\n",
    "        if x != 10:\n",
    "            for z in range(0,10): #Movimiento vertical\n",
    "                for j in range(0,11): #Hasta donde llega en horizontal ###BIEN\n",
    "                    if j != 10:\n",
    "                        for i in range (0,10): #Repeticiones seguidas (10 veces) ###BIEN\n",
    "                            dfU00_N_1_Min.append(df00_N_Min[j+(10*x)]);                              \n",
    "                            dfAlt1.append(dfAltitudp[j+(10*x)])\n",
    "                    else:\n",
    "                        dfU00_N_1_Min.append(df00_N_Min[j+(10*x)]);                   \n",
    "                        dfAlt1.append(dfAltitudp[j+(10*x)])\n",
    "        else:\n",
    "            for j in range(0,11): #Hasta donde llega en horizontal ##BIEN\n",
    "                if j != 10:\n",
    "                    for i in range (0,10): #Repeticiones seguidas (10 veces) ###BIEN\n",
    "                        dfU00_N_1_Min.append(df00_N_Min[j+(10*x)]);                            \n",
    "                        dfAlt1.append(dfAltitudp[j+(10*x)])\n",
    "                else:\n",
    "                    dfU00_N_1_Min.append(df00_N_Min[j+(10*x)]);                                     \n",
    "                    dfAlt1.append(dfAltitudp[j+(10*x)])\n",
    "    else:\n",
    "        if x != 10:\n",
    "            for z in range(0,10): #Movimiento vertical\n",
    "                for j in range(0,11): #Hasta donde llega en horizontal ###BIEN\n",
    "                    if j != 10:\n",
    "                        for i in range (0,10): #Repeticiones seguidas (10 veces) ###BIEN\n",
    "                            dfU00_N_1_Min.append(df00_N_Min[j+(10*x)+(1*x)]);                                \n",
    "                            dfAlt1.append(dfAltitudp[j+(10*x)+(1*x)])\n",
    "                    else:\n",
    "                        dfU00_N_1_Min.append(df00_N_Min[j+(10*x)+(1*x)]);\n",
    "                        dfAlt1.append(dfAltitudp[j+(10*x)+(1*x)])\n",
    "        else:\n",
    "            for j in range(0,11): #Hasta donde llega en horizontal ##BIEN\n",
    "                if j != 10:\n",
    "                    for i in range (0,10): #Repeticiones seguidas (10 veces) ###BIEN\n",
    "                        dfU00_N_1_Min.append(df00_N_Min[j+(10*x)+(1*x)]);                          \n",
    "                        dfAlt1.append(dfAltitudp[j+(10*x)+(1*x)])\n",
    "                else:\n",
    "                    dfU00_N_1_Min.append(df00_N_Min[j+(10*x)+(1*x)]);       \n",
    "                    dfAlt1.append(dfAltitudp[j+(10*x)+(1*x)])"
   ]
  },
  {
   "cell_type": "markdown",
   "id": "922efc14",
   "metadata": {},
   "source": [
    "Con el punto arriba a la derecha"
   ]
  },
  {
   "cell_type": "code",
   "execution_count": null,
   "id": "ea00378d",
   "metadata": {},
   "outputs": [],
   "source": [
    "dfU00_N_2_Min = []; \n",
    "dfAlt2 = []\n",
    "for x in range(0,11): #Bloques diferentes\n",
    "    if x == 0:\n",
    "        if x != 10:\n",
    "            for z in range(0,10): #Movimiento vertical\n",
    "                for j in range(0,11): #Hasta donde llega en horizontal ###BIEN\n",
    "                    if j != 0:\n",
    "                        for i in range (0,10): #Repeticiones seguidas (10 veces) ###BIEN\n",
    "                            dfU00_N_2_Min.append(df00_N_Min[j+(10*x)]);                         \n",
    "                            dfAlt2.append(dfAltitudp[j+(10*x)])\n",
    "                    else:\n",
    "                        dfU00_N_2_Min.append(df00_N_Min[j+(10*x)]);                        \n",
    "                        dfAlt2.append(dfAltitudp[j+(10*x)])\n",
    "        else:\n",
    "            for j in range(0,11): #Hasta donde llega en horizontal ##BIEN\n",
    "                if j != 0:\n",
    "                    for i in range (0,10): #Repeticiones seguidas (10 veces) ###BIEN\n",
    "                        dfU00_N_2_Min.append(df00_N_Min[j+(10*x)]);                 \n",
    "                        dfAlt2.append(dfAltitudp[j+(10*x)])\n",
    "                else:\n",
    "                    dfU00_N_2_Min.append(df00_N_Min[j+(10*x)]);                     \n",
    "                    dfAlt2.append(dfAltitudp[j+(10*x)])\n",
    "    else:\n",
    "        if x != 10:\n",
    "            for z in range(0,10): #Movimiento vertical\n",
    "                for j in range(0,11): #Hasta donde llega en horizontal ###BIEN\n",
    "                    if j != 0:\n",
    "                        for i in range (0,10): #Repeticiones seguidas (10 v\n",
    "                            dfU00_N_2_Min.append(df00_N_Min[j+(10*x)+(1*x)]);                 \n",
    "                            dfAlt2.append(dfAltitudp[j+(10*x)+(1*x)])\n",
    "                    else:\n",
    "                        dfU00_N_2_Min.append(df00_N_Min[j+(10*x)+(1*x)]);                         \n",
    "                        dfAlt2.append(dfAltitudp[j+(10*x)+(1*x)])\n",
    "        else:\n",
    "            for j in range(0,11): #Hasta donde llega en horizontal ##BIEN\n",
    "                if j != 0:\n",
    "                    for i in range (0,10): #Repeticiones seguidas (10 veces) ###BIEN\n",
    "                        dfU00_N_2_Min.append(df00_N_Min[j+(10*x)+(1*x)]);             \n",
    "                        dfAlt2.append(dfAltitudp[j+(10*x)+(1*x)])\n",
    "                else:\n",
    "                    dfU00_N_2_Min.append(df00_N_Min[j+(10*x)+(1*x)]);                       \n",
    "                    dfAlt2.append(dfAltitudp[j+(10*x)+(1*x)])"
   ]
  },
  {
   "cell_type": "markdown",
   "id": "12df3bc9",
   "metadata": {},
   "source": [
    "Abajo a la izquierda"
   ]
  },
  {
   "cell_type": "code",
   "execution_count": null,
   "id": "2b008cfa",
   "metadata": {},
   "outputs": [],
   "source": [
    "dfU00_N_3_Min = []; \n",
    "dfAlt3 = []\n",
    "for x in range(0,11): #Bloques diferentes\n",
    "    if x == 0:\n",
    "        for j in range(0,11): #Hasta donde llega en horizontal ##BIEN\n",
    "            if j != 10:\n",
    "                for i in range (0,10): #Repeticiones seguidas (10 veces) ###BIEN\n",
    "                        dfU00_N_3_Min.append(df00_N_Min[j+(10*x)]);           \n",
    "                        dfAlt3.append(dfAltitudp[j+(10*x)])\n",
    "            else:\n",
    "                    dfU00_N_3_Min.append(df00_N_Min[j+(10*x)]);                         \n",
    "                    dfAlt3.append(dfAltitudp[j+(10*x)])\n",
    "    else:\n",
    "        for z in range(0,10): #Movimiento vertical\n",
    "            for j in range(0,11): #Hasta donde llega en horizontal ###BIEN\n",
    "                if j != 10:\n",
    "                    for i in range (0,10): #Repeticiones seguidas (10 veces) ###BIEN\n",
    "                        dfU00_N_3_Min.append(df00_N_Min[j+(10*x)+(1*x)]);                                 \n",
    "                        dfAlt3.append(dfAltitudp[j+(10*x)+(1*x)])\n",
    "                else:\n",
    "                    dfU00_N_3_Min.append(df00_N_Min[j+(10*x)+(1*x)]);                     \n",
    "                    dfAlt3.append(dfAltitudp[j+(10*x)+(1*x)])"
   ]
  },
  {
   "cell_type": "markdown",
   "id": "88eebc40",
   "metadata": {},
   "source": [
    "Abajo a la derecha"
   ]
  },
  {
   "cell_type": "code",
   "execution_count": null,
   "id": "2e0c351c",
   "metadata": {},
   "outputs": [],
   "source": [
    "dfU00_N_4_Min = []; \n",
    "dfAlt4 = []\n",
    "for x in range(0,11): #Bloques diferentes\n",
    "    if x == 0:\n",
    "        for j in range(0,11): #Hasta donde llega en horizontal ##BIEN\n",
    "            if j != 0:\n",
    "                for i in range (0,10): #Repeticiones seguidas (10 veces) ###BIEN\n",
    "                        dfU00_N_4_Min.append(df00_N_Min[j+(10*x)]);                                             \n",
    "                        dfAlt4.append(dfAltitudp[j+(10*x)])\n",
    "            else:\n",
    "                    dfU00_N_4_Min.append(df00_N_Min[j+(10*x)]);                                       \n",
    "                    dfAlt4.append(dfAltitudp[j+(10*x)])\n",
    "    else:\n",
    "        for z in range(0,10): #Movimiento vertical\n",
    "            for j in range(0,11): #Hasta donde llega en horizontal ###BIEN\n",
    "                if j != 0:\n",
    "                    for i in range (0,10): #Repeticiones seguidas (10 veces) ###BIEN\n",
    "                        dfU00_N_4_Min.append(df00_N_Min[j+(10*x)+(1*x)]);                               \n",
    "                        dfAlt4.append(dfAltitudp[j+(10*x)+(1*x)])\n",
    "                else:\n",
    "                    dfU00_N_4_Min.append(df00_N_Min[j+(10*x)+(1*x)]);                    \n",
    "                    dfAlt4.append(dfAltitudp[j+(10*x)+(1*x)])"
   ]
  },
  {
   "cell_type": "markdown",
   "id": "ecaf135b",
   "metadata": {},
   "source": [
    "### Se realiza un dataframe para cada una de las horas colocando las 4 velocidades asignadas, así como la diferencía de altitud entre los puntos 'originales' y los que no se conoce la velocidad del viento. Así como la longitud de rugosidad correspondiente a cada punto"
   ]
  },
  {
   "cell_type": "code",
   "execution_count": null,
   "id": "ccd114e7",
   "metadata": {},
   "outputs": [],
   "source": [
    "dfV00_N_Min = dfAltitud_1;                                                                      \n",
    "dfV00_N_Min['Uz_UL'] = np.abs(dfU00_N_1_Min);                                                       \n",
    "dfV00_N_Min['zr_UL'] = 80-(dfAlt1-dfV00_N_Min.Altitudes);                                           \n",
    "dfV00_N_Min['Uz_UR'] = np.abs(dfU00_N_2_Min);                                                       \n",
    "dfV00_N_Min['zr_UR'] = 80-(dfAlt2-dfV00_N_Min.Altitudes);                                           \n",
    "dfV00_N_Min['Uz_DL'] = np.abs(dfU00_N_3_Min);                                                       \n",
    "dfV00_N_Min['zr_DL'] = 80-(dfAlt3-dfV00_N_Min.Altitudes);                                           \n",
    "dfV00_N_Min['Uz_DR'] = np.abs(dfU00_N_4_Min);                                                       \n",
    "dfV00_N_Min['zr_DR'] = 80-(dfAlt4-dfV00_N_Min.Altitudes);                                           \n",
    "dfV00_N_Min['zo_1'] = dfRug_INEGI.zo_1;                                                                                                                 \n",
    "dfV00_N_Min = dfV00_N_Min.rename(columns={'Altitudes':'z1','Longitudes':'lon', 'Latitudes':'lat'}); \n",
    "#\n"
   ]
  },
  {
   "cell_type": "markdown",
   "id": "2f03f083",
   "metadata": {},
   "source": [
    "### Se realiza la extrapolación de las velocidades de viento."
   ]
  },
  {
   "cell_type": "code",
   "execution_count": null,
   "id": "a385bae3",
   "metadata": {},
   "outputs": [],
   "source": [
    "U_UL_log_00_N_Min = extrapolacionlog(dfV00_N_Min.Uz_UL, dfV00_N_Min.zr_UL, 80, dfV00_N_Min.zo_1);\n",
    "U_UR_log_00_N_Min = extrapolacionlog(dfV00_N_Min.Uz_UR, dfV00_N_Min.zr_UR, 80, dfV00_N_Min.zo_1);\n",
    "U_DL_log_00_N_Min = extrapolacionlog(dfV00_N_Min.Uz_DL, dfV00_N_Min.zr_DL, 80, dfV00_N_Min.zo_1);\n",
    "U_DR_log_00_N_Min = extrapolacionlog(dfV00_N_Min.Uz_DR, dfV00_N_Min.zr_DR, 80, dfV00_N_Min.zo_1);\n",
    "U_UL_pot_00_N_Min =    extrapolacion(dfV00_N_Min.Uz_UL, dfV00_N_Min.zr_UL, 80);              \n",
    "U_UR_pot_00_N_Min =    extrapolacion(dfV00_N_Min.Uz_UR, dfV00_N_Min.zr_UR, 80);              \n",
    "U_DL_pot_00_N_Min =    extrapolacion(dfV00_N_Min.Uz_DL, dfV00_N_Min.zr_DL, 80);              \n",
    "U_DR_pot_00_N_Min =    extrapolacion(dfV00_N_Min.Uz_DR, dfV00_N_Min.zr_DR, 80);                  \n",
    "#\n",
    "U"
   ]
  },
  {
   "cell_type": "markdown",
   "id": "1fff2671",
   "metadata": {},
   "source": [
    "### Se establece el nuevo dataframe con las velocidades extrapoladas"
   ]
  },
  {
   "cell_type": "code",
   "execution_count": null,
   "id": "cd4cff03",
   "metadata": {},
   "outputs": [],
   "source": [
    "Velo00_N_Min = pd.DataFrame() ;               \n",
    "Velo00_N_Min['lon'] = dfV00_N_Min.Longitud;            \n",
    "Velo00_N_Min['lat'] = dfV00_N_Min.Latitud;            \n",
    "Velo00_N_Min['Vel_UL_log'] = U_UL_log_00_N_Min;   \n",
    "Velo00_N_Min['Vel_UL_pot'] = U_UL_pot_00_N_Min;   \n",
    "Velo00_N_Min['Vel_UR_log'] = U_UR_log_00_N_Min;   \n",
    "Velo00_N_Min['Vel_UR_pot'] = U_UR_pot_00_N_Min;   \n",
    "Velo00_N_Min['Vel_DL_log'] = U_DL_log_00_N_Min;   \n",
    "Velo00_N_Min['Vel_DL_pot'] = U_DL_pot_00_N_Min;   \n",
    "Velo00_N_Min['Vel_DR_log'] = U_DR_log_00_N_Min;   \n",
    "Velo00_N_Min['Vel_DR_pot'] = U_DR_pot_00_N_Min;   \n"
   ]
  },
  {
   "cell_type": "markdown",
   "id": "42886132",
   "metadata": {},
   "source": [
    "### Se realiza la limpia de los valores donde queda - infinito y se reemplazan por cero"
   ]
  },
  {
   "cell_type": "code",
   "execution_count": null,
   "id": "3eb78330",
   "metadata": {},
   "outputs": [],
   "source": [
    "Velo00_N_Min = Velo00_N_Min.where(Velo00_N_Min!=-np.inf, 0, axis=0);\n",
    "Velo00_N_Min = Velo00_N_Min.fillna(0)"
   ]
  },
  {
   "cell_type": "markdown",
   "id": "aa9cf904",
   "metadata": {},
   "source": [
    "## Se realiza el calculo del promedio "
   ]
  },
  {
   "cell_type": "code",
   "execution_count": null,
   "id": "44ddc0ac",
   "metadata": {},
   "outputs": [],
   "source": [
    "Vel_4p_pot_00_N_Min = (Velo00_N_Min.Vel_UL_pot + Velo00_N_Min.Vel_UR_pot + Velo00_N_Min.Vel_DL_pot + Velo00_N_Min.Vel_DR_pot)/4;"
   ]
  },
  {
   "cell_type": "code",
   "execution_count": null,
   "id": "d13f6653",
   "metadata": {},
   "outputs": [],
   "source": [
    "Vel_4p_log_00_N_Min = []\n",
    "for i in range(len(Velo00_N_Min)):\n",
    "    n=0\n",
    "    if Velo00_N_Min.Vel_UL_log[i] != 0:\n",
    "        n = n+1\n",
    "    if Velo00_N_Min.Vel_UR_log[i] != 0:\n",
    "        n = n+1 \n",
    "    if Velo00_N_Min.Vel_DL_log[i] != 0:\n",
    "        n = n+1 \n",
    "    if Velo00_N_Min.Vel_DR_log[i] != 0:\n",
    "        n = n+1\n",
    "    Vel_log_00_N_Min= (Velo00_N_Min.Vel_UL_log[i] + Velo00_N_Min.Vel_UR_log[i] + Velo00_N_Min.Vel_DL_log[i] + Velo00_N_Min.Vel_DR_log[i])/n\n",
    "    Vel_4p_log_00_N_Min.append(Vel_log_00_N_Min)"
   ]
  },
  {
   "cell_type": "markdown",
   "id": "2f1b32d2-d5e6-4a11-b64e-ec1af43a862e",
   "metadata": {},
   "source": [
    "## Formación de los vectores para las gráficas "
   ]
  },
  {
   "cell_type": "code",
   "execution_count": null,
   "id": "cd19b1a2",
   "metadata": {},
   "outputs": [],
   "source": [
    "Vel_4p_logm_00_N_Min = [];\n",
    "k = 0\n",
    "for i in range (0, 101):\n",
    "    arrU_4p_1_00_N_Min = [] ;\n",
    "    \n",
    "    for j in range(0,101):\n",
    "        arrU_4p_1_00_N_Min.append(Vel_4p_log_00_N_Min[k]) ;        \n",
    "        k=k+1\n",
    "    #Umatrix = np.append(Umatrix, [arrU], axis=0)\n",
    "    Vel_4p_logm_00_N_Min.append(arrU_4p_1_00_N_Min);"
   ]
  },
  {
   "cell_type": "code",
   "execution_count": null,
   "id": "963e63fa",
   "metadata": {},
   "outputs": [],
   "source": [
    "List_G = list(range(100,-1, -1))"
   ]
  },
  {
   "cell_type": "code",
   "execution_count": null,
   "id": "bbc7b64e",
   "metadata": {},
   "outputs": [],
   "source": [
    "List_G;"
   ]
  },
  {
   "cell_type": "code",
   "execution_count": null,
   "id": "10f3a413",
   "metadata": {},
   "outputs": [],
   "source": [
    "Vel_4p_logm_00_N_1_Min = []; \n",
    "kk = []\n",
    "for j in range(0,101):\n",
    "    k = List_G[j]\n",
    "    #kk.append(k)\n",
    "    arrU_logm_00_N_1_Min =  Vel_4p_logm_00_N_Min[k] ; \n",
    "    Vel_4p_logm_00_N_1_Min.append(arrU_logm_00_N_1_Min);"
   ]
  },
  {
   "cell_type": "code",
   "execution_count": null,
   "id": "5a4f3ad5",
   "metadata": {},
   "outputs": [],
   "source": [
    "vmin = min(Vel_4p_log_00_N_Min)\n",
    "vmax = max(Vel_4p_log_00_N_Min)\n",
    "cax = plt.imshow(Vel_4p_logm_00_N_1_Min, extent=(-93.94673, -93.85307, 16.134575, 16.224533), origin='lower', cmap = 'jet', vmin=vmin, vmax=vmax)\n",
    "plt.scatter(dfcoor_Or.Longitud, dfcoor_Or.Latitud, c='k', marker='.')\n",
    "cbar=plt.colorbar(cax)\n",
    "cbar.ax.set_ylabel('m/s', rotation=270)\n",
    "plt.title('00:00 06/03/2016 80 mts')\n",
    "plt.xlabel('Longitud [-]')\n",
    "plt.ylabel('Latitud [-]')\n",
    "plt.show()"
   ]
  },
  {
   "cell_type": "markdown",
   "id": "4b6a3d58",
   "metadata": {},
   "source": [
    "# Interpolación para serie temporal de una día (93.862222 W, 16.213611 N)"
   ]
  },
  {
   "cell_type": "code",
   "execution_count": null,
   "id": "fb8b0b12",
   "metadata": {},
   "outputs": [],
   "source": [
    "dateMx = pd.date_range('2016-03-06 00:00:00', '2016-03-06 23:00:00', freq='1H')"
   ]
  },
  {
   "cell_type": "code",
   "execution_count": null,
   "id": "42740b25",
   "metadata": {},
   "outputs": [],
   "source": [
    "dateMx"
   ]
  },
  {
   "cell_type": "code",
   "execution_count": null,
   "id": "d7612b90",
   "metadata": {},
   "outputs": [],
   "source": [
    "df_00_F_Min = pd.DataFrame(Vel_4p_log_00_N_Min, columns = ['Vel'])\n",
    "df_00_F_Min['Longitud'] = dfcoor.Longitud\n",
    "df_00_F_Min['Latitud'] = dfcoor.Latitud\n",
    "\n",
    "df_01_F_Min = pd.DataFrame(Vel_4p_log_01_N_Min, columns = ['Vel'])\n",
    "df_01_F_Min['Longitud'] = dfcoor.Longitud\n",
    "df_01_F_Min['Latitud'] = dfcoor.Latitud\n",
    "\n",
    "df_02_F_Min = pd.DataFrame(Vel_4p_log_02_N_Min, columns = ['Vel'])\n",
    "df_02_F_Min['Longitud'] = dfcoor.Longitud\n",
    "df_02_F_Min['Latitud'] = dfcoor.Latitud\n",
    "\n",
    "df_03_F_Min = pd.DataFrame(Vel_4p_log_03_N_Min, columns = ['Vel'])\n",
    "df_03_F_Min['Longitud'] = dfcoor.Longitud\n",
    "df_03_F_Min['Latitud'] = dfcoor.Latitud\n",
    "\n",
    "df_04_F_Min = pd.DataFrame(Vel_4p_log_04_N_Min, columns = ['Vel'])\n",
    "df_04_F_Min['Longitud'] = dfcoor.Longitud\n",
    "df_04_F_Min['Latitud'] = dfcoor.Latitud\n",
    "\n",
    "df_05_F_Min = pd.DataFrame(Vel_4p_log_05_N_Min, columns = ['Vel'])\n",
    "df_05_F_Min['Longitud'] = dfcoor.Longitud\n",
    "df_05_F_Min['Latitud'] = dfcoor.Latitud\n",
    "\n",
    "df_06_F_Min = pd.DataFrame(Vel_4p_log_06_N_Min, columns = ['Vel'])\n",
    "df_06_F_Min['Longitud'] = dfcoor.Longitud\n",
    "df_06_F_Min['Latitud'] = dfcoor.Latitud\n",
    "\n",
    "df_07_F_Min = pd.DataFrame(Vel_4p_log_07_N_Min, columns = ['Vel'])\n",
    "df_07_F_Min['Longitud'] = dfcoor.Longitud\n",
    "df_07_F_Min['Latitud'] = dfcoor.Latitud\n",
    "\n",
    "df_08_F_Min = pd.DataFrame(Vel_4p_log_08_N_Min, columns = ['Vel'])\n",
    "df_08_F_Min['Longitud'] = dfcoor.Longitud\n",
    "df_08_F_Min['Latitud'] = dfcoor.Latitud\n",
    "\n",
    "df_09_F_Min = pd.DataFrame(Vel_4p_log_09_N_Min, columns = ['Vel'])\n",
    "df_09_F_Min['Longitud'] = dfcoor.Longitud\n",
    "df_09_F_Min['Latitud'] = dfcoor.Latitud\n",
    "\n",
    "df_10_F_Min = pd.DataFrame(Vel_4p_log_10_N_Min, columns = ['Vel'])\n",
    "df_10_F_Min['Longitud'] = dfcoor.Longitud\n",
    "df_10_F_Min['Latitud'] = dfcoor.Latitud\n",
    "\n",
    "df_11_F_Min = pd.DataFrame(Vel_4p_log_11_N_Min, columns = ['Vel'])\n",
    "df_11_F_Min['Longitud'] = dfcoor.Longitud\n",
    "df_11_F_Min['Latitud'] = dfcoor.Latitud\n",
    "\n",
    "df_12_F_Min = pd.DataFrame(Vel_4p_log_12_N_Min, columns = ['Vel'])\n",
    "df_12_F_Min['Longitud'] = dfcoor.Longitud\n",
    "df_12_F_Min['Latitud'] = dfcoor.Latitud\n",
    "\n",
    "df_13_F_Min = pd.DataFrame(Vel_4p_log_13_N_Min, columns = ['Vel'])\n",
    "df_13_F_Min['Longitud'] = dfcoor.Longitud\n",
    "df_13_F_Min['Latitud'] = dfcoor.Latitud\n",
    "\n",
    "df_14_F_Min = pd.DataFrame(Vel_4p_log_14_N_Min, columns = ['Vel'])\n",
    "df_14_F_Min['Longitud'] = dfcoor.Longitud\n",
    "df_14_F_Min['Latitud'] = dfcoor.Latitud\n",
    "\n",
    "df_15_F_Min = pd.DataFrame(Vel_4p_log_15_N_Min, columns = ['Vel'])\n",
    "df_15_F_Min['Longitud'] = dfcoor.Longitud\n",
    "df_15_F_Min['Latitud'] = dfcoor.Latitud\n",
    "\n",
    "df_16_F_Min = pd.DataFrame(Vel_4p_log_16_N_Min, columns = ['Vel'])\n",
    "df_16_F_Min['Longitud'] = dfcoor.Longitud\n",
    "df_16_F_Min['Latitud'] = dfcoor.Latitud\n",
    "\n",
    "df_17_F_Min = pd.DataFrame(Vel_4p_log_17_N_Min, columns = ['Vel'])\n",
    "df_17_F_Min['Longitud'] = dfcoor.Longitud\n",
    "df_17_F_Min['Latitud'] = dfcoor.Latitud\n",
    "\n",
    "df_18_F_Min = pd.DataFrame(Vel_4p_log_18_N_Min, columns = ['Vel'])\n",
    "df_18_F_Min['Longitud'] = dfcoor.Longitud\n",
    "df_18_F_Min['Latitud'] = dfcoor.Latitud\n",
    "\n",
    "df_19_F_Min = pd.DataFrame(Vel_4p_log_19_N_Min, columns = ['Vel'])\n",
    "df_19_F_Min['Longitud'] = dfcoor.Longitud\n",
    "df_19_F_Min['Latitud'] = dfcoor.Latitud\n",
    "\n",
    "df_20_F_Min = pd.DataFrame(Vel_4p_log_20_N_Min, columns = ['Vel'])\n",
    "df_20_F_Min['Longitud'] = dfcoor.Longitud\n",
    "df_20_F_Min['Latitud'] = dfcoor.Latitud\n",
    "\n",
    "df_21_F_Min = pd.DataFrame(Vel_4p_log_21_N_Min, columns = ['Vel'])\n",
    "df_21_F_Min['Longitud'] = dfcoor.Longitud\n",
    "df_21_F_Min['Latitud'] = dfcoor.Latitud\n",
    "\n",
    "df_22_F_Min = pd.DataFrame(Vel_4p_log_22_N_Min, columns = ['Vel'])\n",
    "df_22_F_Min['Longitud'] = dfcoor.Longitud\n",
    "df_22_F_Min['Latitud'] = dfcoor.Latitud\n",
    "\n",
    "df_23_F_Min = pd.DataFrame(Vel_4p_log_23_N_Min, columns = ['Vel'])\n",
    "df_23_F_Min['Longitud'] = dfcoor.Longitud\n",
    "df_23_F_Min['Latitud'] = dfcoor.Latitud"
   ]
  },
  {
   "cell_type": "code",
   "execution_count": null,
   "id": "31888af2",
   "metadata": {},
   "outputs": [],
   "source": [
    "df_00_Min= df_00_F_Min.loc[df_00_F_Min['Longitud'] < -93.9372] ; df_12_Min= df_12_F_Min.loc[df_12_F_Min['Longitud'] < -93.9372]\n",
    "df_00_Min= df_00_Min.loc[df_00_Min['Longitud'] > -93.9375]     ; df_12_Min= df_12_Min.loc[df_12_Min['Longitud'] > -93.9375]\n",
    "df_00_Min= df_00_Min.loc[df_00_Min['Latitud'] < 16.183]        ; df_12_Min= df_12_Min.loc[df_12_Min['Latitud'] < 16.183]\n",
    "df_00_Min= df_00_Min.loc[df_00_Min['Latitud'] > 16.1820]       ; df_12_Min= df_12_Min.loc[df_12_Min['Latitud'] > 16.1820]\n",
    "\n",
    "df_01_Min= df_01_F_Min.loc[df_01_F_Min['Longitud'] < -93.9372] ; df_13_Min= df_13_F_Min.loc[df_13_F_Min['Longitud'] < -93.9372]\n",
    "df_01_Min= df_01_Min.loc[df_01_Min['Longitud'] > -93.9375]     ; df_13_Min= df_13_Min.loc[df_13_Min['Longitud'] > -93.9375]\n",
    "df_01_Min= df_01_Min.loc[df_01_Min['Latitud'] < 16.183]        ; df_13_Min= df_13_Min.loc[df_13_Min['Latitud'] < 16.183]\n",
    "df_01_Min= df_01_Min.loc[df_01_Min['Latitud'] > 16.1820]       ; df_13_Min= df_13_Min.loc[df_13_Min['Latitud'] > 16.1820]\n",
    "\n",
    "df_02_Min= df_02_F_Min.loc[df_02_F_Min['Longitud'] < -93.9372] ; df_14_Min= df_14_F_Min.loc[df_14_F_Min['Longitud'] < -93.9372]\n",
    "df_02_Min= df_02_Min.loc[df_02_Min['Longitud'] > -93.9375]     ; df_14_Min= df_14_Min.loc[df_14_Min['Longitud'] > -93.9375]\n",
    "df_02_Min= df_02_Min.loc[df_02_Min['Latitud'] < 16.183]        ; df_14_Min= df_14_Min.loc[df_14_Min['Latitud'] < 16.183]\n",
    "df_02_Min= df_02_Min.loc[df_02_Min['Latitud'] > 16.1820]       ; df_14_Min= df_14_Min.loc[df_14_Min['Latitud'] > 16.1820]\n",
    "\n",
    "df_03_Min= df_03_F_Min.loc[df_03_F_Min['Longitud'] < -93.9372] ; df_15_Min= df_15_F_Min.loc[df_15_F_Min['Longitud'] < -93.9372]\n",
    "df_03_Min= df_03_Min.loc[df_03_Min['Longitud'] > -93.9375]     ; df_15_Min= df_15_Min.loc[df_15_Min['Longitud'] > -93.9375]\n",
    "df_03_Min= df_03_Min.loc[df_03_Min['Latitud'] < 16.183]        ; df_15_Min= df_15_Min.loc[df_15_Min['Latitud'] < 16.183]\n",
    "df_03_Min= df_03_Min.loc[df_03_Min['Latitud'] > 16.1820]       ; df_15_Min= df_15_Min.loc[df_15_Min['Latitud'] > 16.1820]\n",
    "\n",
    "df_04_Min= df_04_F_Min.loc[df_04_F_Min['Longitud'] < -93.9372] ; df_16_Min= df_16_F_Min.loc[df_16_F_Min['Longitud'] < -93.9372]\n",
    "df_04_Min= df_04_Min.loc[df_04_Min['Longitud'] > -93.9375]     ; df_16_Min= df_16_Min.loc[df_16_Min['Longitud'] > -93.9375]\n",
    "df_04_Min= df_04_Min.loc[df_04_Min['Latitud'] < 16.183]        ; df_16_Min= df_16_Min.loc[df_16_Min['Latitud'] < 16.183]\n",
    "df_04_Min= df_04_Min.loc[df_04_Min['Latitud'] > 16.1820]       ; df_16_Min= df_16_Min.loc[df_16_Min['Latitud'] > 16.1820]\n",
    "\n",
    "df_05_Min= df_05_F_Min.loc[df_05_F_Min['Longitud'] < -93.9372] ; df_17_Min= df_17_F_Min.loc[df_17_F_Min['Longitud'] < -93.9372]\n",
    "df_05_Min= df_05_Min.loc[df_05_Min['Longitud'] > -93.9375]     ; df_17_Min= df_17_Min.loc[df_17_Min['Longitud'] > -93.9375]\n",
    "df_05_Min= df_05_Min.loc[df_05_Min['Latitud'] < 16.183]        ; df_17_Min= df_17_Min.loc[df_17_Min['Latitud'] < 16.183]\n",
    "df_05_Min= df_05_Min.loc[df_05_Min['Latitud'] > 16.1820]       ; df_17_Min= df_17_Min.loc[df_17_Min['Latitud'] > 16.1820]\n",
    "\n",
    "df_06_Min= df_06_F_Min.loc[df_06_F_Min['Longitud'] < -93.9372] ; df_18_Min= df_18_F_Min.loc[df_18_F_Min['Longitud'] < -93.9372]\n",
    "df_06_Min= df_06_Min.loc[df_06_Min['Longitud'] > -93.9375]     ; df_18_Min= df_18_Min.loc[df_18_Min['Longitud'] > -93.9375]\n",
    "df_06_Min= df_06_Min.loc[df_06_Min['Latitud'] < 16.183]        ; df_18_Min= df_18_Min.loc[df_18_Min['Latitud'] < 16.183]\n",
    "df_06_Min= df_06_Min.loc[df_06_Min['Latitud'] > 16.1820]       ; df_18_Min= df_18_Min.loc[df_18_Min['Latitud'] > 16.1820]\n",
    "\n",
    "df_07_Min= df_07_F_Min.loc[df_07_F_Min['Longitud'] < -93.9372] ; df_19_Min= df_19_F_Min.loc[df_19_F_Min['Longitud'] < -93.9372]\n",
    "df_07_Min= df_07_Min.loc[df_07_Min['Longitud'] > -93.9375]     ; df_19_Min= df_19_Min.loc[df_19_Min['Longitud'] > -93.9375]\n",
    "df_07_Min= df_07_Min.loc[df_07_Min['Latitud'] < 16.183]        ; df_19_Min= df_19_Min.loc[df_19_Min['Latitud'] < 16.183]\n",
    "df_07_Min= df_07_Min.loc[df_07_Min['Latitud'] > 16.1820]       ; df_19_Min= df_19_Min.loc[df_19_Min['Latitud'] > 16.1820]\n",
    "\n",
    "df_08_Min= df_08_F_Min.loc[df_08_F_Min['Longitud'] < -93.9372] ; df_20_Min= df_20_F_Min.loc[df_20_F_Min['Longitud'] < -93.9372]\n",
    "df_08_Min= df_08_Min.loc[df_08_Min['Longitud'] > -93.9375]     ; df_20_Min= df_20_Min.loc[df_20_Min['Longitud'] > -93.9375]\n",
    "df_08_Min= df_08_Min.loc[df_08_Min['Latitud'] < 16.183]        ; df_20_Min= df_20_Min.loc[df_20_Min['Latitud'] < 16.183]\n",
    "df_08_Min= df_08_Min.loc[df_08_Min['Latitud'] > 16.1820]       ; df_20_Min= df_20_Min.loc[df_20_Min['Latitud'] > 16.1820]\n",
    "\n",
    "df_09_Min= df_09_F_Min.loc[df_09_F_Min['Longitud'] < -93.9372] ; df_21_Min= df_21_F_Min.loc[df_21_F_Min['Longitud'] < -93.9372]\n",
    "df_09_Min= df_09_Min.loc[df_09_Min['Longitud'] > -93.9375]     ; df_21_Min= df_21_Min.loc[df_21_Min['Longitud'] > -93.9375]\n",
    "df_09_Min= df_09_Min.loc[df_09_Min['Latitud'] < 16.183]        ; df_21_Min= df_21_Min.loc[df_21_Min['Latitud'] < 16.183]\n",
    "df_09_Min= df_09_Min.loc[df_09_Min['Latitud'] > 16.1820]       ; df_21_Min= df_21_Min.loc[df_21_Min['Latitud'] > 16.1820]\n",
    "\n",
    "df_10_Min= df_10_F_Min.loc[df_10_F_Min['Longitud'] < -93.9372] ; df_22_Min= df_22_F_Min.loc[df_22_F_Min['Longitud'] < -93.9372]\n",
    "df_10_Min= df_10_Min.loc[df_10_Min['Longitud'] > -93.9375]     ; df_22_Min= df_22_Min.loc[df_22_Min['Longitud'] > -93.9375]\n",
    "df_10_Min= df_10_Min.loc[df_10_Min['Latitud'] < 16.183]        ; df_22_Min= df_22_Min.loc[df_22_Min['Latitud'] < 16.183]\n",
    "df_10_Min= df_10_Min.loc[df_10_Min['Latitud'] > 16.1820]       ; df_22_Min= df_22_Min.loc[df_22_Min['Latitud'] > 16.1820]\n",
    "\n",
    "df_11_Min= df_11_F_Min.loc[df_11_F_Min['Longitud'] < -93.9372] ; df_23_Min= df_23_F_Min.loc[df_23_F_Min['Longitud'] < -93.9372]\n",
    "df_11_Min= df_11_Min.loc[df_11_Min['Longitud'] > -93.9375]     ; df_23_Min= df_23_Min.loc[df_23_Min['Longitud'] > -93.9375]\n",
    "df_11_Min= df_11_Min.loc[df_11_Min['Latitud'] < 16.183]        ; df_23_Min= df_23_Min.loc[df_23_Min['Latitud'] < 16.183]\n",
    "df_11_Min= df_11_Min.loc[df_11_Min['Latitud'] > 16.1820]       ; df_23_Min= df_23_Min.loc[df_23_Min['Latitud'] > 16.1820]"
   ]
  },
  {
   "cell_type": "code",
   "execution_count": null,
   "id": "f7363976",
   "metadata": {},
   "outputs": [],
   "source": [
    "df_18_Min"
   ]
  },
  {
   "cell_type": "code",
   "execution_count": null,
   "id": "c4ed8dc9",
   "metadata": {},
   "outputs": [],
   "source": [
    "ST_WRF_Min = pd.concat([df_00_Min, df_01_Min, df_02_Min, df_03_Min, df_04_Min, df_05_Min, df_06_Min, df_07_Min,\n",
    "                    df_08_Min, df_09_Min, df_10_Min, df_11_Min, df_12_Min, df_13_Min, df_14_Min, df_15_Min,\n",
    "                    df_16_Min, df_17_Min, df_18_Min, df_19_Min, df_20_Min, df_21_Min, df_22_Min, df_23_Min])"
   ]
  },
  {
   "cell_type": "code",
   "execution_count": null,
   "id": "ccfe4742",
   "metadata": {},
   "outputs": [],
   "source": [
    "ST_WRF_Min['DatMX'] = dateMx\n",
    "ST_WRF_Min = ST_WRF_Min.set_index('DatMX')\n",
    "ST_WRF_Min.index = pd.to_datetime(ST_WRF_Min.index)"
   ]
  },
  {
   "cell_type": "markdown",
   "id": "000e957e",
   "metadata": {},
   "source": [
    "## Datos WRF IB"
   ]
  },
  {
   "cell_type": "code",
   "execution_count": null,
   "id": "42e81a0a",
   "metadata": {},
   "outputs": [],
   "source": [
    "datWRF_min = pd.read_csv('datST_IB.csv')\n",
    "datWRF_min = datWRF_min.set_index('Date_UTCMex')\n",
    "datWRF_min.index = pd.to_datetime(datWRF_min.index);"
   ]
  },
  {
   "cell_type": "code",
   "execution_count": null,
   "id": "237c9818",
   "metadata": {},
   "outputs": [],
   "source": [
    "datWRF_min"
   ]
  },
  {
   "cell_type": "code",
   "execution_count": null,
   "id": "d3e6f36d",
   "metadata": {},
   "outputs": [],
   "source": [
    "datWRF09 = datWRF_min.loc['2016-03-06':'2016-03-06'] #YYYY-MM-DD\n",
    "#datReal03Vel = datReal03.WTG01_AmbientWinSpeedAvg.between_time('00:00', '23:50').to_frame()\n",
    "#datReal03Vel = datReal03Vel.rename(columns={'WTG01_AmbientWindSpeedAvg':'Vel'})\n",
    "#datReal03Vel = datReal03Vel.resample('H').mean()"
   ]
  },
  {
   "cell_type": "code",
   "execution_count": null,
   "id": "df98dc5a",
   "metadata": {},
   "outputs": [],
   "source": [
    "datWRF09"
   ]
  },
  {
   "cell_type": "markdown",
   "id": "1cdded98-0f33-4622-b250-09415a816f15",
   "metadata": {},
   "source": [
    "# Datos WRF Nearest"
   ]
  },
  {
   "cell_type": "code",
   "execution_count": null,
   "id": "3ddc4770-b162-499c-a4bb-34fd044700d0",
   "metadata": {},
   "outputs": [],
   "source": [
    "datWRF_min_Near = pd.read_csv('datST_near_A.csv')\n",
    "datWRF_min_Near = datWRF_min_Near.set_index('Date_UTCMex')\n",
    "datWRF_min_Near.index = pd.to_datetime(datWRF_min_Near.index);"
   ]
  },
  {
   "cell_type": "code",
   "execution_count": null,
   "id": "6101b013-b05b-49d7-a496-8d039dd6b658",
   "metadata": {},
   "outputs": [],
   "source": [
    "datWRF09_Near = datWRF_min_Near.loc['2016-03-06':'2016-03-06']"
   ]
  },
  {
   "cell_type": "markdown",
   "id": "da50abde",
   "metadata": {},
   "source": [
    "# Datos Reales"
   ]
  },
  {
   "cell_type": "code",
   "execution_count": null,
   "id": "5da5445e",
   "metadata": {},
   "outputs": [],
   "source": [
    "datReal_min = pd.read_csv('Datos_WTG_Arriaga_2016.csv')\n",
    "datReal_min = datReal_min.set_index('PCTimeStamp')\n",
    "datReal_min.index = pd.to_datetime(datReal_min.index);"
   ]
  },
  {
   "cell_type": "code",
   "execution_count": null,
   "id": "a9e033b1",
   "metadata": {},
   "outputs": [],
   "source": [
    "datReal09 = datReal_min.loc['2016-03-06':'2016-03-06'] #YYYY-MM-DD\n",
    "datReal09Vel = datReal09.WTG01_AmbientWindSpeedAvg.between_time('00:00', '23:50').to_frame()\n",
    "datReal09Vel = datReal09Vel.rename(columns={'WTG01_AmbientWindSpeedAvg':'Vel'})\n",
    "datReal09Vel = datReal09Vel.resample('H').mean()"
   ]
  },
  {
   "cell_type": "code",
   "execution_count": null,
   "id": "a32bc746",
   "metadata": {},
   "outputs": [],
   "source": [
    "datReal09Vel"
   ]
  },
  {
   "cell_type": "markdown",
   "id": "8a6f7e48",
   "metadata": {},
   "source": [
    "## Comparación"
   ]
  },
  {
   "cell_type": "code",
   "execution_count": null,
   "id": "6664b35e",
   "metadata": {},
   "outputs": [],
   "source": [
    "plt.figure(figsize=(12,5), dpi=100)\n",
    "plt.plot(ST_WRF_Min.index, ST_WRF_Min.Vel, color='tab:cyan', label = 'Aumento')\n",
    "plt.plot(datReal09.index, datReal09.WS_80, color='tab:green', label = 'Real')\n",
    "plt.plot(datWRF09_Near.index, datWRF09_Near['Vel_m/s'], color='tab:blue', label = 'WRF-VMC')\n",
    "plt.plot(datWRF09.index, datWRF09['Vel_m/s'], color='tab:red', label = 'WRF-IB')\n",
    "plt.gca().set(title= 'Velocidad de Viento a 80 m [24.053056 N, 110.585556 W]', xlabel= 'Día Hora', ylabel='[m/s]')\n",
    "plt.legend()\n",
    "plt.show()"
   ]
  },
  {
   "cell_type": "markdown",
   "id": "89234a86",
   "metadata": {},
   "source": [
    "## Métricas"
   ]
  },
  {
   "cell_type": "markdown",
   "id": "8b43d672-6186-45c9-9570-baedfe1b1d94",
   "metadata": {},
   "source": [
    "reales vs IB"
   ]
  },
  {
   "cell_type": "code",
   "execution_count": null,
   "id": "68bb0cd0-1bdc-4f32-a812-38dcf2e6581f",
   "metadata": {},
   "outputs": [],
   "source": [
    "scipy.stats.pearsonr(datReal09Vel.Vel, datWRF09['Vel_m/s'])"
   ]
  },
  {
   "cell_type": "code",
   "execution_count": null,
   "id": "2b41de01-5d99-4434-8d78-f9762a0e14c7",
   "metadata": {},
   "outputs": [],
   "source": [
    "scipy.stats.spearmanr(datReal09Vel.Vel, datWRF09['Vel_m/s'])"
   ]
  },
  {
   "cell_type": "code",
   "execution_count": null,
   "id": "991b5178-4b89-4217-85cf-0056747e25e6",
   "metadata": {},
   "outputs": [],
   "source": [
    "sqrt (mean_squared_error ( datReal09Vel.Vel, datWRF09['Vel_m/s'] ))"
   ]
  },
  {
   "cell_type": "markdown",
   "id": "47baa5c1-1fb9-4250-8508-66dc8c91bc85",
   "metadata": {},
   "source": [
    "reales vs vmc"
   ]
  },
  {
   "cell_type": "code",
   "execution_count": null,
   "id": "487297be-b5ab-4374-8e72-510e2b81875b",
   "metadata": {},
   "outputs": [],
   "source": [
    "scipy.stats.pearsonr(datReal09Vel.Vel, datWRF09_Near['Vel_m/s'])"
   ]
  },
  {
   "cell_type": "code",
   "execution_count": null,
   "id": "b3bdfbc4-e4a6-409c-9252-b15784f15f68",
   "metadata": {},
   "outputs": [],
   "source": [
    "scipy.stats.spearmanr(datReal09Vel.Vel, datWRF09_Near['Vel_m/s'])"
   ]
  },
  {
   "cell_type": "code",
   "execution_count": null,
   "id": "54c69f49-d503-4fc2-a4c4-c9766eedb149",
   "metadata": {},
   "outputs": [],
   "source": [
    "sqrt (mean_squared_error ( datReal09Vel.Vel, datWRF09_Near['Vel_m/s'] ))"
   ]
  },
  {
   "cell_type": "markdown",
   "id": "b2409a42-d250-49fe-8bc9-aaa6132c59c9",
   "metadata": {},
   "source": [
    "reales vs aumento"
   ]
  },
  {
   "cell_type": "code",
   "execution_count": null,
   "id": "52a5d641",
   "metadata": {},
   "outputs": [],
   "source": [
    "scipy.stats.pearsonr(datReal09Vel.Vel, ST_WRF_Min.Vel)"
   ]
  },
  {
   "cell_type": "code",
   "execution_count": null,
   "id": "531310a4",
   "metadata": {},
   "outputs": [],
   "source": [
    "scipy.stats.spearmanr(datReal09Vel.Vel, ST_WRF_Min.Vel)"
   ]
  },
  {
   "cell_type": "code",
   "execution_count": null,
   "id": "64d226c1",
   "metadata": {},
   "outputs": [],
   "source": [
    "sqrt (mean_squared_error ( datReal09Vel.Vel, ST_WRF_Min.Vel))"
   ]
  },
  {
   "cell_type": "markdown",
   "id": "8da1081b-f290-4214-806f-f0bf7166a75d",
   "metadata": {},
   "source": [
    "## Calculo de factor de planta"
   ]
  },
  {
   "cell_type": "code",
   "execution_count": null,
   "id": "0333b18a",
   "metadata": {},
   "outputs": [],
   "source": [
    "#función para determinar la energía generada.\n",
    "def ENEGEN(Vel):\n",
    "    if Vel < 3:\n",
    "        pot = 0 \n",
    "    if Vel >= 3:\n",
    "        if Vel < 3.5:\n",
    "            pot = 10\n",
    "    if Vel >= 3.5:\n",
    "        if Vel < 4:\n",
    "            pot = 20       \n",
    "    if Vel >= 4:\n",
    "        if Vel < 4.5:\n",
    "            pot = 46 \n",
    "    if Vel >= 4.5:\n",
    "        if Vel < 5:\n",
    "            pot = 110\n",
    "    if Vel >= 5:\n",
    "        if Vel < 5.5:\n",
    "            pot = 170 \n",
    "    if Vel >= 5.5:\n",
    "        if Vel < 6:\n",
    "            pot = 240       \n",
    "    if Vel >= 6:\n",
    "        if Vel < 6.5:\n",
    "            pot = 355 \n",
    "    if Vel >= 6.5:\n",
    "        if Vel < 7:\n",
    "            pot = 460      \n",
    "    if Vel >= 7:\n",
    "        if Vel < 7.5:\n",
    "            pot = 580 \n",
    "    if Vel >= 7.5:\n",
    "        if Vel < 8:\n",
    "            pot = 732     \n",
    "    if Vel >= 8:\n",
    "        if Vel < 8.5:\n",
    "            pot = 884 \n",
    "    if Vel >= 8.5:\n",
    "        if Vel < 9:\n",
    "            pot = 1065    \n",
    "    if Vel >= 9:\n",
    "        if Vel < 9.5:\n",
    "            pot = 1245 \n",
    "    if Vel >= 9.5:\n",
    "        if Vel < 10:\n",
    "            pot = 1428\n",
    "    if Vel >= 10:\n",
    "        if Vel < 10.5:\n",
    "            pot = 1612 \n",
    "    if Vel >= 10.5:\n",
    "        if Vel < 11:\n",
    "            pot = 1756\n",
    "    if Vel >= 11:\n",
    "        if Vel < 11.5:\n",
    "            pot = 1900 \n",
    "    if Vel >= 11.5:\n",
    "        if Vel < 12:\n",
    "            pot = 1940\n",
    "    if Vel >= 12:\n",
    "        if Vel < 12.5:\n",
    "            pot = 1968 \n",
    "    if Vel >= 12.5:\n",
    "        if Vel < 13:\n",
    "            pot = 1980\n",
    "    if Vel >= 13:\n",
    "        if Vel < 13.5:\n",
    "            pot = 1990        \n",
    "    if Vel >= 13.5:\n",
    "        pot = 2000\n",
    "    if Vel >25:\n",
    "        pot = 0\n",
    "    return(pot)"
   ]
  },
  {
   "cell_type": "code",
   "execution_count": null,
   "id": "5d802a99-eb4a-4489-b0cc-947b972eaea4",
   "metadata": {},
   "outputs": [],
   "source": [
    "En_nominal = 2000*24"
   ]
  },
  {
   "cell_type": "code",
   "execution_count": null,
   "id": "9ca274a6-8fb6-4548-a75c-2b7188606dc0",
   "metadata": {},
   "outputs": [],
   "source": [
    "En_real_1 = 0\n",
    "for i in range(0,24):\n",
    "    pot = ENEGEN(datReal09.WS_80[i])\n",
    "    En_real_1 = pot + En_real_1"
   ]
  },
  {
   "cell_type": "code",
   "execution_count": null,
   "id": "8d26c7e4-0ee3-4624-a323-963f4f96256d",
   "metadata": {},
   "outputs": [],
   "source": [
    "En_aum_1 = 0\n",
    "for i in range(0,24):\n",
    "    pot = ENEGEN(ST_WRF_Min.Vel[i])\n",
    "    En_aum_1 = pot + En_aum_1"
   ]
  },
  {
   "cell_type": "code",
   "execution_count": null,
   "id": "f123eb1e-568c-416e-971d-c638798d09fa",
   "metadata": {},
   "outputs": [],
   "source": [
    "En_near_1 = 0\n",
    "for i in range(0,24):\n",
    "    pot = ENEGEN(datWRF09_Near['Vel_m/s'][i])\n",
    "    En_near_1 = pot + En_near_1"
   ]
  },
  {
   "cell_type": "code",
   "execution_count": null,
   "id": "971ceb97-4a9f-41d2-8240-a3d46d6c12df",
   "metadata": {},
   "outputs": [],
   "source": [
    "En_IB_1 = 0\n",
    "for i in range(0,24):\n",
    "    pot = ENEGEN(datWRF09['Vel_m/s'][i])\n",
    "    En_IB_1 = pot + En_IB_1"
   ]
  },
  {
   "cell_type": "code",
   "execution_count": null,
   "id": "d6ba215b-f1a1-4c8a-be45-ad3878f944ff",
   "metadata": {},
   "outputs": [],
   "source": [
    "FP_real_1 = En_real_1/En_nominal\n",
    "FP_aum_1 = En_aum_1/En_nominal\n",
    "FP_near_1 = En_near_1/En_nominal\n",
    "FP_IB_1 = En_IB_1/En_nominal\n",
    "print(FP_real_1, FP_aum_1, FP_near_1, FP_IB_1)"
   ]
  }
 ],
 "metadata": {
  "kernelspec": {
   "display_name": "Python 3 (ipykernel)",
   "language": "python",
   "name": "python3"
  },
  "language_info": {
   "codemirror_mode": {
    "name": "ipython",
    "version": 3
   },
   "file_extension": ".py",
   "mimetype": "text/x-python",
   "name": "python",
   "nbconvert_exporter": "python",
   "pygments_lexer": "ipython3",
   "version": "3.10.4"
  }
 },
 "nbformat": 4,
 "nbformat_minor": 5
}
