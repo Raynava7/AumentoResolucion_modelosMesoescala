{
 "cells": [
  {
   "cell_type": "code",
   "execution_count": null,
   "id": "d82f74e0-8bd1-42d8-b78e-9ef0f11cea03",
   "metadata": {},
   "outputs": [],
   "source": [
    "import os\n",
    "os.chdir('../../scripts_base/')\n",
    "import gus_wrf_ray\n",
    "import xarray as xr \n",
    "import iris  \n",
    "import pandas as pd\n",
    "import numpy as np\n",
    "import datetime \n",
    "import missingno as msno\n",
    "import iris.pandas\n",
    "import cartopy.feature as cfeature\n",
    "import cartopy.crs as ccrs\n",
    "import scipy\n",
    "import matplotlib.pyplot as plt\n",
    "import matplotlib.cm as c\n",
    "import time\n",
    "from metpy.cbook import get_test_data\n",
    "from dask.distributed import Client\n",
    "import wradlib as wrl"
   ]
  },
  {
   "cell_type": "markdown",
   "id": "b3c1d911-43b3-45e7-8774-7b93214f377c",
   "metadata": {},
   "source": [
    "## Fechas y ubicación para la serie temporal  "
   ]
  },
  {
   "cell_type": "code",
   "execution_count": 4,
   "id": "a133890f-eb00-48c7-b08a-e4ae5d075351",
   "metadata": {},
   "outputs": [],
   "source": [
    "datos = '../caso_d/Datos_WRF_Arriaga/WRF_1M/'\n",
    "date_bgn = '01-03-2016'\n",
    "date_end = '31-03-2016'\n",
    "grid = 3\n",
    "wt_loc = [('latitude', 16.188056), ('longitude', -93.943889)]\n",
    "wt_height = 80"
   ]
  },
  {
   "cell_type": "markdown",
   "id": "85a5ad24-abe0-4a65-87bb-1142c98e7735",
   "metadata": {},
   "source": [
    "## Interpolación de vecino más cercano"
   ]
  },
  {
   "cell_type": "code",
   "execution_count": 5,
   "id": "eab64b2b-e0fc-4664-984b-5dd87fb8fb86",
   "metadata": {},
   "outputs": [],
   "source": [
    "datST_nearest = gus_wrf_ray.extract_hh_cubeRAY_nearest_WS(datos,date_bgn, date_end, grid, wt_loc, wt_height)\n",
    "datST_nearest = datST_nearest[0]"
   ]
  },
  {
   "cell_type": "markdown",
   "id": "216e74ee-f944-4110-a044-7351cf4bc0e2",
   "metadata": {},
   "source": [
    "## Interpolación bilinear"
   ]
  },
  {
   "cell_type": "code",
   "execution_count": null,
   "id": "41020aae-082e-46e7-be7f-61abad61eccd",
   "metadata": {},
   "outputs": [],
   "source": [
    "datST_IB = gus_wrf_ray.extract_hh_cubeRAY_InterpBiline_WS(datos,date_bgn, date_end, grid, wt_loc, wt_height)\n",
    "datST_IB = datST_IB[0]"
   ]
  },
  {
   "cell_type": "markdown",
   "id": "7c534d76-cb79-4724-b873-51446ae900a5",
   "metadata": {},
   "source": [
    "4066"
   ]
  },
  {
   "cell_type": "markdown",
   "id": "9f692b87-4ab0-4059-b5ab-941b2977dede",
   "metadata": {},
   "source": [
    "## Correción horaria (UTC -6)"
   ]
  },
  {
   "cell_type": "code",
   "execution_count": 7,
   "id": "aa10fdcd-62ce-46ad-a2aa-347adde6c024",
   "metadata": {},
   "outputs": [],
   "source": [
    "pde2 = pd.date_range('2016-03-01 00:00:00', '2016-03-31 17:00:00', freq='1H')"
   ]
  },
  {
   "cell_type": "code",
   "execution_count": null,
   "id": "bb6b1271-73d8-4d61-955a-4f084a3247c1",
   "metadata": {},
   "outputs": [],
   "source": [
    "datST_nearest['Date_UTCMex'] = pde2\n",
    "datST_nearest.to_csv('../Casos_V2/caso_D/Velocidades/datST_near_D.csv')\n",
    "datST_nearest;"
   ]
  },
  {
   "cell_type": "code",
   "execution_count": 8,
   "id": "554e4870-c1e1-45fd-b4f6-b9cd72edbaac",
   "metadata": {},
   "outputs": [],
   "source": [
    "datST_IB['Date_UTCMex'] = pde2\n",
    "datST_IB.to_csv('../Casos_V2/caso_D/Velocidades/datST_IB_D.csv')\n",
    "datST_IB;"
   ]
  }
 ],
 "metadata": {
  "kernelspec": {
   "display_name": "Python 3 (ipykernel)",
   "language": "python",
   "name": "python3"
  },
  "language_info": {
   "codemirror_mode": {
    "name": "ipython",
    "version": 3
   },
   "file_extension": ".py",
   "mimetype": "text/x-python",
   "name": "python",
   "nbconvert_exporter": "python",
   "pygments_lexer": "ipython3",
   "version": "3.10.4"
  }
 },
 "nbformat": 4,
 "nbformat_minor": 5
}
